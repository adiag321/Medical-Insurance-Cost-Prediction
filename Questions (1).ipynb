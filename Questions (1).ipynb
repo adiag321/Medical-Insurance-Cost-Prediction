{
 "cells": [
  {
   "cell_type": "markdown",
   "metadata": {
    "colab_type": "text",
    "id": "x_BkOtqBIKQz"
   },
   "source": [
    "# Data Science Challenge"
   ]
  },
  {
   "cell_type": "code",
   "execution_count": 45,
   "metadata": {
    "colab": {},
    "colab_type": "code",
    "id": "U_VthdACIKQ6"
   },
   "outputs": [
    {
     "name": "stdout",
     "output_type": "stream",
     "text": [
      "Collecting tensorflow\n",
      "  Downloading tensorflow-2.8.0-cp37-cp37m-manylinux2010_x86_64.whl (497.5 MB)\n",
      "\u001b[K     |████████████████████████████████| 497.5 MB 14 kB/s s eta 0:00:013\n",
      "\u001b[?25hCollecting flatbuffers>=1.12\n",
      "  Downloading flatbuffers-2.0-py2.py3-none-any.whl (26 kB)\n",
      "Requirement already satisfied: h5py>=2.9.0 in /opt/conda/lib/python3.7/site-packages (from tensorflow) (2.9.0)\n",
      "Collecting gast>=0.2.1\n",
      "  Downloading gast-0.5.3-py3-none-any.whl (19 kB)\n",
      "Collecting absl-py>=0.4.0\n",
      "  Downloading absl_py-1.0.0-py3-none-any.whl (126 kB)\n",
      "\u001b[K     |████████████████████████████████| 126 kB 76.5 MB/s eta 0:00:01\n",
      "\u001b[?25hCollecting opt-einsum>=2.3.2\n",
      "  Downloading opt_einsum-3.3.0-py3-none-any.whl (65 kB)\n",
      "\u001b[K     |████████████████████████████████| 65 kB 7.1 MB/s  eta 0:00:01\n",
      "\u001b[?25hCollecting astunparse>=1.6.0\n",
      "  Downloading astunparse-1.6.3-py2.py3-none-any.whl (12 kB)\n",
      "Collecting numpy>=1.20\n",
      "  Downloading numpy-1.21.5-cp37-cp37m-manylinux_2_12_x86_64.manylinux2010_x86_64.whl (15.7 MB)\n",
      "\u001b[K     |████████████████████████████████| 15.7 MB 52.6 MB/s eta 0:00:01\n",
      "\u001b[?25hCollecting grpcio<2.0,>=1.24.3\n",
      "  Downloading grpcio-1.44.0-cp37-cp37m-manylinux_2_17_x86_64.manylinux2014_x86_64.whl (4.3 MB)\n",
      "\u001b[K     |████████████████████████████████| 4.3 MB 71.6 MB/s eta 0:00:01\n",
      "\u001b[?25hCollecting libclang>=9.0.1\n",
      "  Downloading libclang-13.0.0-py2.py3-none-manylinux1_x86_64.whl (14.5 MB)\n",
      "\u001b[K     |████████████████████████████████| 14.5 MB 59.8 MB/s eta 0:00:01\n",
      "\u001b[?25hCollecting wrapt>=1.11.0\n",
      "  Downloading wrapt-1.13.3-cp37-cp37m-manylinux_2_5_x86_64.manylinux1_x86_64.manylinux_2_12_x86_64.manylinux2010_x86_64.whl (79 kB)\n",
      "\u001b[K     |████████████████████████████████| 79 kB 8.9 MB/s  eta 0:00:01\n",
      "\u001b[?25hCollecting keras<2.9,>=2.8.0rc0\n",
      "  Downloading keras-2.8.0-py2.py3-none-any.whl (1.4 MB)\n",
      "\u001b[K     |████████████████████████████████| 1.4 MB 73.5 MB/s eta 0:00:01\n",
      "\u001b[?25hCollecting termcolor>=1.1.0\n",
      "  Downloading termcolor-1.1.0.tar.gz (3.9 kB)\n",
      "Requirement already satisfied: setuptools in /opt/conda/lib/python3.7/site-packages (from tensorflow) (49.6.0.post20201009)\n",
      "Collecting tensorboard<2.9,>=2.8\n",
      "  Downloading tensorboard-2.8.0-py3-none-any.whl (5.8 MB)\n",
      "\u001b[K     |████████████████████████████████| 5.8 MB 53.8 MB/s eta 0:00:01\n",
      "\u001b[?25hRequirement already satisfied: six>=1.12.0 in /opt/conda/lib/python3.7/site-packages (from tensorflow) (1.15.0)\n",
      "Collecting tf-estimator-nightly==2.8.0.dev2021122109\n",
      "  Downloading tf_estimator_nightly-2.8.0.dev2021122109-py2.py3-none-any.whl (462 kB)\n",
      "\u001b[K     |████████████████████████████████| 462 kB 76.3 MB/s eta 0:00:01\n",
      "\u001b[?25hCollecting typing-extensions>=3.6.6\n",
      "  Downloading typing_extensions-4.1.1-py3-none-any.whl (26 kB)\n",
      "Collecting tensorflow-io-gcs-filesystem>=0.23.1\n",
      "  Downloading tensorflow_io_gcs_filesystem-0.24.0-cp37-cp37m-manylinux_2_12_x86_64.manylinux2010_x86_64.whl (2.1 MB)\n",
      "\u001b[K     |████████████████████████████████| 2.1 MB 65.6 MB/s eta 0:00:01\n",
      "\u001b[?25hCollecting keras-preprocessing>=1.1.1\n",
      "  Downloading Keras_Preprocessing-1.1.2-py2.py3-none-any.whl (42 kB)\n",
      "\u001b[K     |████████████████████████████████| 42 kB 1.9 MB/s  eta 0:00:01\n",
      "\u001b[?25hCollecting google-pasta>=0.1.1\n",
      "  Downloading google_pasta-0.2.0-py3-none-any.whl (57 kB)\n",
      "\u001b[K     |████████████████████████████████| 57 kB 8.9 MB/s  eta 0:00:01\n",
      "\u001b[?25hRequirement already satisfied: protobuf>=3.9.2 in /opt/conda/lib/python3.7/site-packages (from tensorflow) (3.9.2)\n",
      "Requirement already satisfied: wheel<1.0,>=0.23.0 in /opt/conda/lib/python3.7/site-packages (from astunparse>=1.6.0->tensorflow) (0.35.1)\n",
      "Collecting google-auth-oauthlib<0.5,>=0.4.1\n",
      "  Downloading google_auth_oauthlib-0.4.6-py2.py3-none-any.whl (18 kB)\n",
      "Collecting tensorboard-data-server<0.7.0,>=0.6.0\n",
      "  Downloading tensorboard_data_server-0.6.1-py3-none-manylinux2010_x86_64.whl (4.9 MB)\n",
      "\u001b[K     |████████████████████████████████| 4.9 MB 76.9 MB/s eta 0:00:01\n",
      "\u001b[?25hCollecting werkzeug>=0.11.15\n",
      "  Downloading Werkzeug-2.0.3-py3-none-any.whl (289 kB)\n",
      "\u001b[K     |████████████████████████████████| 289 kB 84.4 MB/s eta 0:00:01\n",
      "\u001b[?25hCollecting google-auth<3,>=1.6.3\n",
      "  Downloading google_auth-2.6.0-py2.py3-none-any.whl (156 kB)\n",
      "\u001b[K     |████████████████████████████████| 156 kB 86.6 MB/s eta 0:00:01\n",
      "\u001b[?25hCollecting markdown>=2.6.8\n",
      "  Downloading Markdown-3.3.6-py3-none-any.whl (97 kB)\n",
      "\u001b[K     |████████████████████████████████| 97 kB 12.0 MB/s eta 0:00:01\n",
      "\u001b[?25hRequirement already satisfied: requests<3,>=2.21.0 in /opt/conda/lib/python3.7/site-packages (from tensorboard<2.9,>=2.8->tensorflow) (2.24.0)\n",
      "Collecting tensorboard-plugin-wit>=1.6.0\n",
      "  Downloading tensorboard_plugin_wit-1.8.1-py3-none-any.whl (781 kB)\n",
      "\u001b[K     |████████████████████████████████| 781 kB 48.3 MB/s eta 0:00:01\n",
      "\u001b[?25hCollecting requests-oauthlib>=0.7.0\n",
      "  Downloading requests_oauthlib-1.3.1-py2.py3-none-any.whl (23 kB)\n",
      "Requirement already satisfied: rsa<5,>=3.1.4; python_version >= \"3.6\" in /home/jovyan/.local/lib/python3.7/site-packages (from google-auth<3,>=1.6.3->tensorboard<2.9,>=2.8->tensorflow) (3.4.2)\n",
      "Collecting cachetools<6.0,>=2.0.0\n",
      "  Downloading cachetools-5.0.0-py3-none-any.whl (9.1 kB)\n",
      "Collecting pyasn1-modules>=0.2.1\n",
      "  Downloading pyasn1_modules-0.2.8-py2.py3-none-any.whl (155 kB)\n",
      "\u001b[K     |████████████████████████████████| 155 kB 84.8 MB/s eta 0:00:01\n",
      "\u001b[?25hCollecting importlib-metadata>=4.4; python_version < \"3.10\"\n",
      "  Downloading importlib_metadata-4.11.1-py3-none-any.whl (17 kB)\n",
      "Requirement already satisfied: idna<3,>=2.5 in /opt/conda/lib/python3.7/site-packages (from requests<3,>=2.21.0->tensorboard<2.9,>=2.8->tensorflow) (2.10)\n",
      "Requirement already satisfied: certifi>=2017.4.17 in /opt/conda/lib/python3.7/site-packages (from requests<3,>=2.21.0->tensorboard<2.9,>=2.8->tensorflow) (2020.6.20)\n",
      "Requirement already satisfied: chardet<4,>=3.0.2 in /opt/conda/lib/python3.7/site-packages (from requests<3,>=2.21.0->tensorboard<2.9,>=2.8->tensorflow) (3.0.4)\n",
      "Requirement already satisfied: urllib3!=1.25.0,!=1.25.1,<1.26,>=1.21.1 in /opt/conda/lib/python3.7/site-packages (from requests<3,>=2.21.0->tensorboard<2.9,>=2.8->tensorflow) (1.25.11)\n",
      "Requirement already satisfied: oauthlib>=3.0.0 in /opt/conda/lib/python3.7/site-packages (from requests-oauthlib>=0.7.0->google-auth-oauthlib<0.5,>=0.4.1->tensorboard<2.9,>=2.8->tensorflow) (3.0.1)\n",
      "Requirement already satisfied: pyasn1>=0.1.3 in /home/jovyan/.local/lib/python3.7/site-packages (from rsa<5,>=3.1.4; python_version >= \"3.6\"->google-auth<3,>=1.6.3->tensorboard<2.9,>=2.8->tensorflow) (0.4.8)\n",
      "Requirement already satisfied: zipp>=0.5 in /opt/conda/lib/python3.7/site-packages (from importlib-metadata>=4.4; python_version < \"3.10\"->markdown>=2.6.8->tensorboard<2.9,>=2.8->tensorflow) (3.4.0)\n",
      "Building wheels for collected packages: termcolor\n",
      "  Building wheel for termcolor (setup.py) ... \u001b[?25ldone\n",
      "\u001b[?25h  Created wheel for termcolor: filename=termcolor-1.1.0-py3-none-any.whl size=4830 sha256=f272e9a16a077150b49291228b70b28efea5393c4ea496f319b32499659524a1\n",
      "  Stored in directory: /home/jovyan/.cache/pip/wheels/3f/e3/ec/8a8336ff196023622fbcb36de0c5a5c218cbb24111d1d4c7f2\n",
      "Successfully built termcolor\n",
      "Installing collected packages: flatbuffers, gast, absl-py, numpy, opt-einsum, astunparse, grpcio, libclang, wrapt, keras, termcolor, cachetools, pyasn1-modules, google-auth, requests-oauthlib, google-auth-oauthlib, tensorboard-data-server, werkzeug, typing-extensions, importlib-metadata, markdown, tensorboard-plugin-wit, tensorboard, tf-estimator-nightly, tensorflow-io-gcs-filesystem, keras-preprocessing, google-pasta, tensorflow\n",
      "  Attempting uninstall: numpy\n",
      "    Found existing installation: numpy 1.19.2\n",
      "    Uninstalling numpy-1.19.2:\n",
      "      Successfully uninstalled numpy-1.19.2\n",
      "  Attempting uninstall: importlib-metadata\n",
      "    Found existing installation: importlib-metadata 2.0.0\n",
      "    Uninstalling importlib-metadata-2.0.0:\n",
      "      Successfully uninstalled importlib-metadata-2.0.0\n",
      "Successfully installed absl-py-1.0.0 astunparse-1.6.3 cachetools-5.0.0 flatbuffers-2.0 gast-0.5.3 google-auth-2.6.0 google-auth-oauthlib-0.4.6 google-pasta-0.2.0 grpcio-1.44.0 importlib-metadata-4.11.1 keras-2.8.0 keras-preprocessing-1.1.2 libclang-13.0.0 markdown-3.3.6 numpy-1.21.5 opt-einsum-3.3.0 pyasn1-modules-0.2.8 requests-oauthlib-1.3.1 tensorboard-2.8.0 tensorboard-data-server-0.6.1 tensorboard-plugin-wit-1.8.1 tensorflow-2.8.0 tensorflow-io-gcs-filesystem-0.24.0 termcolor-1.1.0 tf-estimator-nightly-2.8.0.dev2021122109 typing-extensions-4.1.1 werkzeug-2.0.3 wrapt-1.13.3\n"
     ]
    }
   ],
   "source": [
    "# To install packages that are not installed by default, uncomment the last two lines \n",
    "# of this cell and replace <package list> with a list of necessary packages.\n",
    "# This will ensure the notebook has all the dependencies and works everywhere.\n",
    "\n",
    "import sys\n",
    "!{sys.executable} -m pip install tensorflow"
   ]
  },
  {
   "cell_type": "code",
   "execution_count": 95,
   "metadata": {},
   "outputs": [],
   "source": [
    "# installing libraries\n",
    "import numpy as np\n",
    "import pandas as pd\n",
    "import seaborn as sns\n",
    "import matplotlib.pyplot as plt\n",
    "%matplotlib inline\n",
    "import sklearn"
   ]
  },
  {
   "cell_type": "code",
   "execution_count": 96,
   "metadata": {},
   "outputs": [],
   "source": [
    "# installing libraries for modeling\n",
    "from sklearn.linear_model import SGDClassifier, LogisticRegression\n",
    "from sklearn.ensemble import RandomForestClassifier\n",
    "from sklearn.svm import SVC\n",
    "from sklearn.neural_network import MLPClassifier\n",
    "from xgboost import XGBClassifier\n",
    "from sklearn.linear_model import LogisticRegression\n",
    "from lightgbm import LGBMClassifier\n",
    "from xgboost import plot_tree, plot_importance\n",
    "\n",
    "from sklearn.metrics import confusion_matrix, accuracy_score, roc_auc_score, roc_curve, f1_score\n",
    "from sklearn import preprocessing\n",
    "from sklearn.model_selection import train_test_split\n",
    "from sklearn.feature_selection import RFE\n",
    "from sklearn.preprocessing import LabelBinarizer"
   ]
  },
  {
   "cell_type": "code",
   "execution_count": 97,
   "metadata": {
    "colab": {},
    "colab_type": "code",
    "id": "VzGFUCCVIKRL"
   },
   "outputs": [],
   "source": [
    "#Libraries\n",
    "import pandas as pd\n",
    "pd.set_option(\"display.max_columns\", 101)"
   ]
  },
  {
   "cell_type": "markdown",
   "metadata": {
    "colab_type": "text",
    "id": "TZ23KNY8IKRT"
   },
   "source": [
    "## Data Description"
   ]
  },
  {
   "cell_type": "markdown",
   "metadata": {
    "colab_type": "text",
    "id": "jWSkqquEIKRW"
   },
   "source": [
    "Column | Description\n",
    ":---|:---\n",
    "`id` | The unique ID assigned to every hotel.\n",
    "`region` | The region in which the hotel is located..\n",
    "`latitude` | The latitude of the hotel.\n",
    "`longitude` | The longitude of the hotel.\n",
    "`accommodation_type` | The type of accommodation offered by the hotel. For example: Private room, Entire house/apt, etc.\n",
    "`cost` | The cost of booking the hotel for one night. (in \\$\\$)\n",
    "`minimum_nights` | The minimum number of nights stay required.\n",
    "`number_of_reviews` | The number of reviews accumulated by the hotel.\n",
    "`reviews_per_month` | The average number of reviews received by the hotel per month.\n",
    "`owner_id` | The unique ID assigned to every owner. An owner can own multiple hotels.\n",
    "`owned_hotels` | The number of hotels owned by the owner.\n",
    "`yearly_availability` | It indicates if the hotel accepts bookings around the year. Values are 0 (not available for 365 days in a year) and 1 (available for 365 days in a year)."
   ]
  },
  {
   "cell_type": "markdown",
   "metadata": {
    "colab_type": "text",
    "id": "BWQqx7cSIKRX"
   },
   "source": [
    "## Data Wrangling & Visualization"
   ]
  },
  {
   "cell_type": "code",
   "execution_count": 98,
   "metadata": {
    "colab": {},
    "colab_type": "code",
    "id": "SsjL7tf7IKRc"
   },
   "outputs": [],
   "source": [
    "# Loading Dataset\n",
    "df_train = pd.read_csv(\"train.csv\")\n",
    "df_test = pd.read_csv('test.csv')"
   ]
  },
  {
   "cell_type": "code",
   "execution_count": 99,
   "metadata": {
    "colab": {},
    "colab_type": "code",
    "id": "kzuHtZEkIKRh",
    "outputId": "9d14832c-2eda-48eb-df41-548113a94a73"
   },
   "outputs": [
    {
     "data": {
      "text/html": [
       "<div>\n",
       "<style scoped>\n",
       "    .dataframe tbody tr th:only-of-type {\n",
       "        vertical-align: middle;\n",
       "    }\n",
       "\n",
       "    .dataframe tbody tr th {\n",
       "        vertical-align: top;\n",
       "    }\n",
       "\n",
       "    .dataframe thead th {\n",
       "        text-align: right;\n",
       "    }\n",
       "</style>\n",
       "<table border=\"1\" class=\"dataframe\">\n",
       "  <thead>\n",
       "    <tr style=\"text-align: right;\">\n",
       "      <th></th>\n",
       "      <th>id</th>\n",
       "      <th>region</th>\n",
       "      <th>latitude</th>\n",
       "      <th>longitude</th>\n",
       "      <th>accommodation_type</th>\n",
       "      <th>cost</th>\n",
       "      <th>minimum_nights</th>\n",
       "      <th>number_of_reviews</th>\n",
       "      <th>reviews_per_month</th>\n",
       "      <th>owner_id</th>\n",
       "      <th>owned_hotels</th>\n",
       "      <th>yearly_availability</th>\n",
       "    </tr>\n",
       "  </thead>\n",
       "  <tbody>\n",
       "    <tr>\n",
       "      <th>0</th>\n",
       "      <td>13232</td>\n",
       "      <td>Manhattan</td>\n",
       "      <td>40.71854</td>\n",
       "      <td>-74.00439</td>\n",
       "      <td>Entire home/apt</td>\n",
       "      <td>170</td>\n",
       "      <td>5</td>\n",
       "      <td>7</td>\n",
       "      <td>0.56</td>\n",
       "      <td>929983</td>\n",
       "      <td>1</td>\n",
       "      <td>0</td>\n",
       "    </tr>\n",
       "    <tr>\n",
       "      <th>1</th>\n",
       "      <td>246</td>\n",
       "      <td>Brooklyn</td>\n",
       "      <td>40.64446</td>\n",
       "      <td>-73.95030</td>\n",
       "      <td>Entire home/apt</td>\n",
       "      <td>65</td>\n",
       "      <td>3</td>\n",
       "      <td>238</td>\n",
       "      <td>2.30</td>\n",
       "      <td>281764</td>\n",
       "      <td>1</td>\n",
       "      <td>0</td>\n",
       "    </tr>\n",
       "    <tr>\n",
       "      <th>2</th>\n",
       "      <td>19091</td>\n",
       "      <td>Queens</td>\n",
       "      <td>40.78573</td>\n",
       "      <td>-73.81062</td>\n",
       "      <td>Private room</td>\n",
       "      <td>85</td>\n",
       "      <td>1</td>\n",
       "      <td>0</td>\n",
       "      <td>NaN</td>\n",
       "      <td>19923341</td>\n",
       "      <td>1</td>\n",
       "      <td>1</td>\n",
       "    </tr>\n",
       "    <tr>\n",
       "      <th>3</th>\n",
       "      <td>34305</td>\n",
       "      <td>Manhattan</td>\n",
       "      <td>40.73863</td>\n",
       "      <td>-73.98002</td>\n",
       "      <td>Private room</td>\n",
       "      <td>210</td>\n",
       "      <td>30</td>\n",
       "      <td>0</td>\n",
       "      <td>NaN</td>\n",
       "      <td>200380610</td>\n",
       "      <td>65</td>\n",
       "      <td>1</td>\n",
       "    </tr>\n",
       "    <tr>\n",
       "      <th>4</th>\n",
       "      <td>444</td>\n",
       "      <td>Manhattan</td>\n",
       "      <td>40.82426</td>\n",
       "      <td>-73.94630</td>\n",
       "      <td>Shared room</td>\n",
       "      <td>75</td>\n",
       "      <td>3</td>\n",
       "      <td>38</td>\n",
       "      <td>0.42</td>\n",
       "      <td>745069</td>\n",
       "      <td>3</td>\n",
       "      <td>1</td>\n",
       "    </tr>\n",
       "  </tbody>\n",
       "</table>\n",
       "</div>"
      ],
      "text/plain": [
       "      id     region  latitude  longitude accommodation_type  cost  \\\n",
       "0  13232  Manhattan  40.71854  -74.00439    Entire home/apt   170   \n",
       "1    246   Brooklyn  40.64446  -73.95030    Entire home/apt    65   \n",
       "2  19091     Queens  40.78573  -73.81062       Private room    85   \n",
       "3  34305  Manhattan  40.73863  -73.98002       Private room   210   \n",
       "4    444  Manhattan  40.82426  -73.94630        Shared room    75   \n",
       "\n",
       "   minimum_nights  number_of_reviews  reviews_per_month   owner_id  \\\n",
       "0               5                  7               0.56     929983   \n",
       "1               3                238               2.30     281764   \n",
       "2               1                  0                NaN   19923341   \n",
       "3              30                  0                NaN  200380610   \n",
       "4               3                 38               0.42     745069   \n",
       "\n",
       "   owned_hotels  yearly_availability  \n",
       "0             1                    0  \n",
       "1             1                    0  \n",
       "2             1                    1  \n",
       "3            65                    1  \n",
       "4             3                    1  "
      ]
     },
     "execution_count": 99,
     "metadata": {},
     "output_type": "execute_result"
    }
   ],
   "source": [
    "df_train.head()"
   ]
  },
  {
   "cell_type": "code",
   "execution_count": 100,
   "metadata": {
    "colab": {},
    "colab_type": "code",
    "id": "0mhMZRlBIKRu",
    "outputId": "0a669059-5528-4ec0-d64b-8231f6aadf45"
   },
   "outputs": [
    {
     "data": {
      "text/plain": [
       "Index(['id', 'region', 'latitude', 'longitude', 'accommodation_type', 'cost',\n",
       "       'minimum_nights', 'number_of_reviews', 'reviews_per_month', 'owner_id',\n",
       "       'owned_hotels', 'yearly_availability'],\n",
       "      dtype='object')"
      ]
     },
     "execution_count": 100,
     "metadata": {},
     "output_type": "execute_result"
    }
   ],
   "source": [
    "#Explore columns\n",
    "df_train.columns"
   ]
  },
  {
   "cell_type": "code",
   "execution_count": 101,
   "metadata": {
    "colab": {},
    "colab_type": "code",
    "id": "-SrTmyfJIKR1",
    "outputId": "12b270ca-8c3f-402b-d6c1-286c17e63fdd"
   },
   "outputs": [
    {
     "data": {
      "text/html": [
       "<div>\n",
       "<style scoped>\n",
       "    .dataframe tbody tr th:only-of-type {\n",
       "        vertical-align: middle;\n",
       "    }\n",
       "\n",
       "    .dataframe tbody tr th {\n",
       "        vertical-align: top;\n",
       "    }\n",
       "\n",
       "    .dataframe thead th {\n",
       "        text-align: right;\n",
       "    }\n",
       "</style>\n",
       "<table border=\"1\" class=\"dataframe\">\n",
       "  <thead>\n",
       "    <tr style=\"text-align: right;\">\n",
       "      <th></th>\n",
       "      <th>id</th>\n",
       "      <th>latitude</th>\n",
       "      <th>longitude</th>\n",
       "      <th>cost</th>\n",
       "      <th>minimum_nights</th>\n",
       "      <th>number_of_reviews</th>\n",
       "      <th>reviews_per_month</th>\n",
       "      <th>owner_id</th>\n",
       "      <th>owned_hotels</th>\n",
       "      <th>yearly_availability</th>\n",
       "    </tr>\n",
       "  </thead>\n",
       "  <tbody>\n",
       "    <tr>\n",
       "      <th>count</th>\n",
       "      <td>2870.000000</td>\n",
       "      <td>2870.000000</td>\n",
       "      <td>2870.000000</td>\n",
       "      <td>2870.000000</td>\n",
       "      <td>2870.000000</td>\n",
       "      <td>2870.000000</td>\n",
       "      <td>2194.000000</td>\n",
       "      <td>2.870000e+03</td>\n",
       "      <td>2870.000000</td>\n",
       "      <td>2870.000000</td>\n",
       "    </tr>\n",
       "    <tr>\n",
       "      <th>mean</th>\n",
       "      <td>26760.657143</td>\n",
       "      <td>40.731224</td>\n",
       "      <td>-73.950158</td>\n",
       "      <td>195.943206</td>\n",
       "      <td>11.530314</td>\n",
       "      <td>16.315331</td>\n",
       "      <td>1.157502</td>\n",
       "      <td>7.202195e+07</td>\n",
       "      <td>8.411498</td>\n",
       "      <td>0.498606</td>\n",
       "    </tr>\n",
       "    <tr>\n",
       "      <th>std</th>\n",
       "      <td>14140.930062</td>\n",
       "      <td>0.054942</td>\n",
       "      <td>0.049745</td>\n",
       "      <td>406.184714</td>\n",
       "      <td>37.972339</td>\n",
       "      <td>32.481722</td>\n",
       "      <td>1.355028</td>\n",
       "      <td>8.076516e+07</td>\n",
       "      <td>27.105522</td>\n",
       "      <td>0.500085</td>\n",
       "    </tr>\n",
       "    <tr>\n",
       "      <th>min</th>\n",
       "      <td>0.000000</td>\n",
       "      <td>40.507080</td>\n",
       "      <td>-74.242850</td>\n",
       "      <td>10.000000</td>\n",
       "      <td>1.000000</td>\n",
       "      <td>0.000000</td>\n",
       "      <td>0.010000</td>\n",
       "      <td>2.787000e+03</td>\n",
       "      <td>1.000000</td>\n",
       "      <td>0.000000</td>\n",
       "    </tr>\n",
       "    <tr>\n",
       "      <th>25%</th>\n",
       "      <td>15931.750000</td>\n",
       "      <td>40.692462</td>\n",
       "      <td>-73.984003</td>\n",
       "      <td>75.000000</td>\n",
       "      <td>1.000000</td>\n",
       "      <td>1.000000</td>\n",
       "      <td>0.240000</td>\n",
       "      <td>7.388002e+06</td>\n",
       "      <td>1.000000</td>\n",
       "      <td>0.000000</td>\n",
       "    </tr>\n",
       "    <tr>\n",
       "      <th>50%</th>\n",
       "      <td>28946.500000</td>\n",
       "      <td>40.728250</td>\n",
       "      <td>-73.956720</td>\n",
       "      <td>120.000000</td>\n",
       "      <td>3.000000</td>\n",
       "      <td>4.000000</td>\n",
       "      <td>0.650000</td>\n",
       "      <td>3.352708e+07</td>\n",
       "      <td>1.000000</td>\n",
       "      <td>0.000000</td>\n",
       "    </tr>\n",
       "    <tr>\n",
       "      <th>75%</th>\n",
       "      <td>38478.500000</td>\n",
       "      <td>40.762658</td>\n",
       "      <td>-73.934202</td>\n",
       "      <td>200.000000</td>\n",
       "      <td>6.000000</td>\n",
       "      <td>16.000000</td>\n",
       "      <td>1.530000</td>\n",
       "      <td>1.207625e+08</td>\n",
       "      <td>3.000000</td>\n",
       "      <td>1.000000</td>\n",
       "    </tr>\n",
       "    <tr>\n",
       "      <th>max</th>\n",
       "      <td>48893.000000</td>\n",
       "      <td>40.898730</td>\n",
       "      <td>-73.721730</td>\n",
       "      <td>9999.000000</td>\n",
       "      <td>999.000000</td>\n",
       "      <td>395.000000</td>\n",
       "      <td>10.370000</td>\n",
       "      <td>2.738123e+08</td>\n",
       "      <td>327.000000</td>\n",
       "      <td>1.000000</td>\n",
       "    </tr>\n",
       "  </tbody>\n",
       "</table>\n",
       "</div>"
      ],
      "text/plain": [
       "                 id     latitude    longitude         cost  minimum_nights  \\\n",
       "count   2870.000000  2870.000000  2870.000000  2870.000000     2870.000000   \n",
       "mean   26760.657143    40.731224   -73.950158   195.943206       11.530314   \n",
       "std    14140.930062     0.054942     0.049745   406.184714       37.972339   \n",
       "min        0.000000    40.507080   -74.242850    10.000000        1.000000   \n",
       "25%    15931.750000    40.692462   -73.984003    75.000000        1.000000   \n",
       "50%    28946.500000    40.728250   -73.956720   120.000000        3.000000   \n",
       "75%    38478.500000    40.762658   -73.934202   200.000000        6.000000   \n",
       "max    48893.000000    40.898730   -73.721730  9999.000000      999.000000   \n",
       "\n",
       "       number_of_reviews  reviews_per_month      owner_id  owned_hotels  \\\n",
       "count        2870.000000        2194.000000  2.870000e+03   2870.000000   \n",
       "mean           16.315331           1.157502  7.202195e+07      8.411498   \n",
       "std            32.481722           1.355028  8.076516e+07     27.105522   \n",
       "min             0.000000           0.010000  2.787000e+03      1.000000   \n",
       "25%             1.000000           0.240000  7.388002e+06      1.000000   \n",
       "50%             4.000000           0.650000  3.352708e+07      1.000000   \n",
       "75%            16.000000           1.530000  1.207625e+08      3.000000   \n",
       "max           395.000000          10.370000  2.738123e+08    327.000000   \n",
       "\n",
       "       yearly_availability  \n",
       "count          2870.000000  \n",
       "mean              0.498606  \n",
       "std               0.500085  \n",
       "min               0.000000  \n",
       "25%               0.000000  \n",
       "50%               0.000000  \n",
       "75%               1.000000  \n",
       "max               1.000000  "
      ]
     },
     "execution_count": 101,
     "metadata": {},
     "output_type": "execute_result"
    }
   ],
   "source": [
    "#Description\n",
    "df_train.describe()"
   ]
  },
  {
   "cell_type": "code",
   "execution_count": 102,
   "metadata": {
    "colab": {},
    "colab_type": "code",
    "id": "W9B6xKGpIKSQ"
   },
   "outputs": [
    {
     "data": {
      "text/html": [
       "<div>\n",
       "<style scoped>\n",
       "    .dataframe tbody tr th:only-of-type {\n",
       "        vertical-align: middle;\n",
       "    }\n",
       "\n",
       "    .dataframe tbody tr th {\n",
       "        vertical-align: top;\n",
       "    }\n",
       "\n",
       "    .dataframe thead th {\n",
       "        text-align: right;\n",
       "    }\n",
       "</style>\n",
       "<table border=\"1\" class=\"dataframe\">\n",
       "  <thead>\n",
       "    <tr style=\"text-align: right;\">\n",
       "      <th></th>\n",
       "      <th>id</th>\n",
       "      <th>region</th>\n",
       "      <th>latitude</th>\n",
       "      <th>longitude</th>\n",
       "      <th>accommodation_type</th>\n",
       "      <th>cost</th>\n",
       "      <th>minimum_nights</th>\n",
       "      <th>number_of_reviews</th>\n",
       "      <th>reviews_per_month</th>\n",
       "      <th>owner_id</th>\n",
       "      <th>owned_hotels</th>\n",
       "      <th>yearly_availability</th>\n",
       "    </tr>\n",
       "  </thead>\n",
       "  <tbody>\n",
       "    <tr>\n",
       "      <th>0</th>\n",
       "      <td>13232</td>\n",
       "      <td>Manhattan</td>\n",
       "      <td>40.71854</td>\n",
       "      <td>-74.00439</td>\n",
       "      <td>Entire home/apt</td>\n",
       "      <td>170</td>\n",
       "      <td>5</td>\n",
       "      <td>7</td>\n",
       "      <td>0.56</td>\n",
       "      <td>929983</td>\n",
       "      <td>1</td>\n",
       "      <td>0</td>\n",
       "    </tr>\n",
       "    <tr>\n",
       "      <th>1</th>\n",
       "      <td>246</td>\n",
       "      <td>Brooklyn</td>\n",
       "      <td>40.64446</td>\n",
       "      <td>-73.95030</td>\n",
       "      <td>Entire home/apt</td>\n",
       "      <td>65</td>\n",
       "      <td>3</td>\n",
       "      <td>238</td>\n",
       "      <td>2.30</td>\n",
       "      <td>281764</td>\n",
       "      <td>1</td>\n",
       "      <td>0</td>\n",
       "    </tr>\n",
       "    <tr>\n",
       "      <th>2</th>\n",
       "      <td>19091</td>\n",
       "      <td>Queens</td>\n",
       "      <td>40.78573</td>\n",
       "      <td>-73.81062</td>\n",
       "      <td>Private room</td>\n",
       "      <td>85</td>\n",
       "      <td>1</td>\n",
       "      <td>0</td>\n",
       "      <td>NaN</td>\n",
       "      <td>19923341</td>\n",
       "      <td>1</td>\n",
       "      <td>1</td>\n",
       "    </tr>\n",
       "    <tr>\n",
       "      <th>3</th>\n",
       "      <td>34305</td>\n",
       "      <td>Manhattan</td>\n",
       "      <td>40.73863</td>\n",
       "      <td>-73.98002</td>\n",
       "      <td>Private room</td>\n",
       "      <td>210</td>\n",
       "      <td>30</td>\n",
       "      <td>0</td>\n",
       "      <td>NaN</td>\n",
       "      <td>200380610</td>\n",
       "      <td>65</td>\n",
       "      <td>1</td>\n",
       "    </tr>\n",
       "    <tr>\n",
       "      <th>4</th>\n",
       "      <td>444</td>\n",
       "      <td>Manhattan</td>\n",
       "      <td>40.82426</td>\n",
       "      <td>-73.94630</td>\n",
       "      <td>Shared room</td>\n",
       "      <td>75</td>\n",
       "      <td>3</td>\n",
       "      <td>38</td>\n",
       "      <td>0.42</td>\n",
       "      <td>745069</td>\n",
       "      <td>3</td>\n",
       "      <td>1</td>\n",
       "    </tr>\n",
       "  </tbody>\n",
       "</table>\n",
       "</div>"
      ],
      "text/plain": [
       "      id     region  latitude  longitude accommodation_type  cost  \\\n",
       "0  13232  Manhattan  40.71854  -74.00439    Entire home/apt   170   \n",
       "1    246   Brooklyn  40.64446  -73.95030    Entire home/apt    65   \n",
       "2  19091     Queens  40.78573  -73.81062       Private room    85   \n",
       "3  34305  Manhattan  40.73863  -73.98002       Private room   210   \n",
       "4    444  Manhattan  40.82426  -73.94630        Shared room    75   \n",
       "\n",
       "   minimum_nights  number_of_reviews  reviews_per_month   owner_id  \\\n",
       "0               5                  7               0.56     929983   \n",
       "1               3                238               2.30     281764   \n",
       "2               1                  0                NaN   19923341   \n",
       "3              30                  0                NaN  200380610   \n",
       "4               3                 38               0.42     745069   \n",
       "\n",
       "   owned_hotels  yearly_availability  \n",
       "0             1                    0  \n",
       "1             1                    0  \n",
       "2             1                    1  \n",
       "3            65                    1  \n",
       "4             3                    1  "
      ]
     },
     "execution_count": 102,
     "metadata": {},
     "output_type": "execute_result"
    }
   ],
   "source": [
    "df_train.head()"
   ]
  },
  {
   "cell_type": "markdown",
   "metadata": {
    "colab_type": "text",
    "id": "ymsdDaIPIKSX"
   },
   "source": [
    "## Visualization, Modeling, Machine Learning\n",
    "\n",
    "Build a model that categorizes hotels on the basis of their yearly availability.  Identify how different features influence the decision. Please explain the findings effectively to technical and non-technical audiences using comments and visualizations, if appropriate.\n",
    "- **Build an optimized model that effectively solves the business problem.**\n",
    "- **The model will be evaluated on the basis of Accuracy.**\n",
    "- **Read the test.csv file and prepare features for testing.**"
   ]
  },
  {
   "cell_type": "markdown",
   "metadata": {},
   "source": [
    "## NULL Values Analysis"
   ]
  },
  {
   "cell_type": "code",
   "execution_count": 103,
   "metadata": {
    "colab": {},
    "colab_type": "code",
    "id": "Hsxh3SMgIKSY",
    "outputId": "d98d0f00-f33f-407b-df59-a9915bb03fa1"
   },
   "outputs": [
    {
     "data": {
      "text/html": [
       "<div>\n",
       "<style scoped>\n",
       "    .dataframe tbody tr th:only-of-type {\n",
       "        vertical-align: middle;\n",
       "    }\n",
       "\n",
       "    .dataframe tbody tr th {\n",
       "        vertical-align: top;\n",
       "    }\n",
       "\n",
       "    .dataframe thead th {\n",
       "        text-align: right;\n",
       "    }\n",
       "</style>\n",
       "<table border=\"1\" class=\"dataframe\">\n",
       "  <thead>\n",
       "    <tr style=\"text-align: right;\">\n",
       "      <th></th>\n",
       "      <th>Total</th>\n",
       "      <th>Percent</th>\n",
       "    </tr>\n",
       "  </thead>\n",
       "  <tbody>\n",
       "    <tr>\n",
       "      <th>reviews_per_month</th>\n",
       "      <td>676</td>\n",
       "      <td>0.23554</td>\n",
       "    </tr>\n",
       "    <tr>\n",
       "      <th>yearly_availability</th>\n",
       "      <td>0</td>\n",
       "      <td>0.00000</td>\n",
       "    </tr>\n",
       "    <tr>\n",
       "      <th>owned_hotels</th>\n",
       "      <td>0</td>\n",
       "      <td>0.00000</td>\n",
       "    </tr>\n",
       "    <tr>\n",
       "      <th>owner_id</th>\n",
       "      <td>0</td>\n",
       "      <td>0.00000</td>\n",
       "    </tr>\n",
       "    <tr>\n",
       "      <th>number_of_reviews</th>\n",
       "      <td>0</td>\n",
       "      <td>0.00000</td>\n",
       "    </tr>\n",
       "  </tbody>\n",
       "</table>\n",
       "</div>"
      ],
      "text/plain": [
       "                     Total  Percent\n",
       "reviews_per_month      676  0.23554\n",
       "yearly_availability      0  0.00000\n",
       "owned_hotels             0  0.00000\n",
       "owner_id                 0  0.00000\n",
       "number_of_reviews        0  0.00000"
      ]
     },
     "execution_count": 103,
     "metadata": {},
     "output_type": "execute_result"
    }
   ],
   "source": [
    "#Analysing Null Values\n",
    "total = df_train.isnull().sum().sort_values(ascending=False)\n",
    "percent = (df_train.isnull().sum()/df_train.isnull().count()).sort_values(ascending=False)\n",
    "missing_data = pd.concat([total,percent], axis = 1, keys = [\"Total\", \"Percent\"])\n",
    "missing_data.head()"
   ]
  },
  {
   "cell_type": "markdown",
   "metadata": {},
   "source": [
    "#### Observation:\n",
    "\n",
    "Review_per_month has NaN values where number_of_reviews are 0. So, when are there 0 number of reviews, reviews_of_month will be imputed by 0. \n"
   ]
  },
  {
   "cell_type": "markdown",
   "metadata": {},
   "source": [
    "## Imputting Nan Values"
   ]
  },
  {
   "cell_type": "code",
   "execution_count": 104,
   "metadata": {
    "colab": {},
    "colab_type": "code",
    "id": "73vBzp7lIKSf"
   },
   "outputs": [
    {
     "data": {
      "text/html": [
       "<div>\n",
       "<style scoped>\n",
       "    .dataframe tbody tr th:only-of-type {\n",
       "        vertical-align: middle;\n",
       "    }\n",
       "\n",
       "    .dataframe tbody tr th {\n",
       "        vertical-align: top;\n",
       "    }\n",
       "\n",
       "    .dataframe thead th {\n",
       "        text-align: right;\n",
       "    }\n",
       "</style>\n",
       "<table border=\"1\" class=\"dataframe\">\n",
       "  <thead>\n",
       "    <tr style=\"text-align: right;\">\n",
       "      <th></th>\n",
       "      <th>id</th>\n",
       "      <th>region</th>\n",
       "      <th>latitude</th>\n",
       "      <th>longitude</th>\n",
       "      <th>accommodation_type</th>\n",
       "      <th>cost</th>\n",
       "      <th>minimum_nights</th>\n",
       "      <th>number_of_reviews</th>\n",
       "      <th>reviews_per_month</th>\n",
       "      <th>owner_id</th>\n",
       "      <th>owned_hotels</th>\n",
       "      <th>yearly_availability</th>\n",
       "    </tr>\n",
       "  </thead>\n",
       "  <tbody>\n",
       "    <tr>\n",
       "      <th>0</th>\n",
       "      <td>13232</td>\n",
       "      <td>Manhattan</td>\n",
       "      <td>40.71854</td>\n",
       "      <td>-74.00439</td>\n",
       "      <td>Entire home/apt</td>\n",
       "      <td>170</td>\n",
       "      <td>5</td>\n",
       "      <td>7</td>\n",
       "      <td>0.56</td>\n",
       "      <td>929983</td>\n",
       "      <td>1</td>\n",
       "      <td>0</td>\n",
       "    </tr>\n",
       "    <tr>\n",
       "      <th>1</th>\n",
       "      <td>246</td>\n",
       "      <td>Brooklyn</td>\n",
       "      <td>40.64446</td>\n",
       "      <td>-73.95030</td>\n",
       "      <td>Entire home/apt</td>\n",
       "      <td>65</td>\n",
       "      <td>3</td>\n",
       "      <td>238</td>\n",
       "      <td>2.30</td>\n",
       "      <td>281764</td>\n",
       "      <td>1</td>\n",
       "      <td>0</td>\n",
       "    </tr>\n",
       "    <tr>\n",
       "      <th>2</th>\n",
       "      <td>19091</td>\n",
       "      <td>Queens</td>\n",
       "      <td>40.78573</td>\n",
       "      <td>-73.81062</td>\n",
       "      <td>Private room</td>\n",
       "      <td>85</td>\n",
       "      <td>1</td>\n",
       "      <td>0</td>\n",
       "      <td>0.00</td>\n",
       "      <td>19923341</td>\n",
       "      <td>1</td>\n",
       "      <td>1</td>\n",
       "    </tr>\n",
       "    <tr>\n",
       "      <th>3</th>\n",
       "      <td>34305</td>\n",
       "      <td>Manhattan</td>\n",
       "      <td>40.73863</td>\n",
       "      <td>-73.98002</td>\n",
       "      <td>Private room</td>\n",
       "      <td>210</td>\n",
       "      <td>30</td>\n",
       "      <td>0</td>\n",
       "      <td>0.00</td>\n",
       "      <td>200380610</td>\n",
       "      <td>65</td>\n",
       "      <td>1</td>\n",
       "    </tr>\n",
       "    <tr>\n",
       "      <th>4</th>\n",
       "      <td>444</td>\n",
       "      <td>Manhattan</td>\n",
       "      <td>40.82426</td>\n",
       "      <td>-73.94630</td>\n",
       "      <td>Shared room</td>\n",
       "      <td>75</td>\n",
       "      <td>3</td>\n",
       "      <td>38</td>\n",
       "      <td>0.42</td>\n",
       "      <td>745069</td>\n",
       "      <td>3</td>\n",
       "      <td>1</td>\n",
       "    </tr>\n",
       "  </tbody>\n",
       "</table>\n",
       "</div>"
      ],
      "text/plain": [
       "      id     region  latitude  longitude accommodation_type  cost  \\\n",
       "0  13232  Manhattan  40.71854  -74.00439    Entire home/apt   170   \n",
       "1    246   Brooklyn  40.64446  -73.95030    Entire home/apt    65   \n",
       "2  19091     Queens  40.78573  -73.81062       Private room    85   \n",
       "3  34305  Manhattan  40.73863  -73.98002       Private room   210   \n",
       "4    444  Manhattan  40.82426  -73.94630        Shared room    75   \n",
       "\n",
       "   minimum_nights  number_of_reviews  reviews_per_month   owner_id  \\\n",
       "0               5                  7               0.56     929983   \n",
       "1               3                238               2.30     281764   \n",
       "2               1                  0               0.00   19923341   \n",
       "3              30                  0               0.00  200380610   \n",
       "4               3                 38               0.42     745069   \n",
       "\n",
       "   owned_hotels  yearly_availability  \n",
       "0             1                    0  \n",
       "1             1                    0  \n",
       "2             1                    1  \n",
       "3            65                    1  \n",
       "4             3                    1  "
      ]
     },
     "execution_count": 104,
     "metadata": {},
     "output_type": "execute_result"
    }
   ],
   "source": [
    "df_train = df_train.fillna(0)\n",
    "df_train.head()"
   ]
  },
  {
   "cell_type": "markdown",
   "metadata": {},
   "source": [
    "## Feature Extraction"
   ]
  },
  {
   "cell_type": "markdown",
   "metadata": {},
   "source": [
    "Calculating the payable cost to stay for the minimum number of days at the hotel.\n",
    "\n",
    "Total Cost = Cost * minimum_nights"
   ]
  },
  {
   "cell_type": "code",
   "execution_count": 105,
   "metadata": {
    "colab": {},
    "colab_type": "code",
    "id": "1XiIoLYLIKSj"
   },
   "outputs": [
    {
     "data": {
      "text/html": [
       "<div>\n",
       "<style scoped>\n",
       "    .dataframe tbody tr th:only-of-type {\n",
       "        vertical-align: middle;\n",
       "    }\n",
       "\n",
       "    .dataframe tbody tr th {\n",
       "        vertical-align: top;\n",
       "    }\n",
       "\n",
       "    .dataframe thead th {\n",
       "        text-align: right;\n",
       "    }\n",
       "</style>\n",
       "<table border=\"1\" class=\"dataframe\">\n",
       "  <thead>\n",
       "    <tr style=\"text-align: right;\">\n",
       "      <th></th>\n",
       "      <th>id</th>\n",
       "      <th>region</th>\n",
       "      <th>latitude</th>\n",
       "      <th>longitude</th>\n",
       "      <th>accommodation_type</th>\n",
       "      <th>cost</th>\n",
       "      <th>minimum_nights</th>\n",
       "      <th>number_of_reviews</th>\n",
       "      <th>reviews_per_month</th>\n",
       "      <th>owner_id</th>\n",
       "      <th>owned_hotels</th>\n",
       "      <th>yearly_availability</th>\n",
       "      <th>total_cost</th>\n",
       "    </tr>\n",
       "  </thead>\n",
       "  <tbody>\n",
       "    <tr>\n",
       "      <th>0</th>\n",
       "      <td>13232</td>\n",
       "      <td>Manhattan</td>\n",
       "      <td>40.71854</td>\n",
       "      <td>-74.00439</td>\n",
       "      <td>Entire home/apt</td>\n",
       "      <td>170</td>\n",
       "      <td>5</td>\n",
       "      <td>7</td>\n",
       "      <td>0.56</td>\n",
       "      <td>929983</td>\n",
       "      <td>1</td>\n",
       "      <td>0</td>\n",
       "      <td>850</td>\n",
       "    </tr>\n",
       "    <tr>\n",
       "      <th>1</th>\n",
       "      <td>246</td>\n",
       "      <td>Brooklyn</td>\n",
       "      <td>40.64446</td>\n",
       "      <td>-73.95030</td>\n",
       "      <td>Entire home/apt</td>\n",
       "      <td>65</td>\n",
       "      <td>3</td>\n",
       "      <td>238</td>\n",
       "      <td>2.30</td>\n",
       "      <td>281764</td>\n",
       "      <td>1</td>\n",
       "      <td>0</td>\n",
       "      <td>195</td>\n",
       "    </tr>\n",
       "    <tr>\n",
       "      <th>2</th>\n",
       "      <td>19091</td>\n",
       "      <td>Queens</td>\n",
       "      <td>40.78573</td>\n",
       "      <td>-73.81062</td>\n",
       "      <td>Private room</td>\n",
       "      <td>85</td>\n",
       "      <td>1</td>\n",
       "      <td>0</td>\n",
       "      <td>0.00</td>\n",
       "      <td>19923341</td>\n",
       "      <td>1</td>\n",
       "      <td>1</td>\n",
       "      <td>85</td>\n",
       "    </tr>\n",
       "    <tr>\n",
       "      <th>3</th>\n",
       "      <td>34305</td>\n",
       "      <td>Manhattan</td>\n",
       "      <td>40.73863</td>\n",
       "      <td>-73.98002</td>\n",
       "      <td>Private room</td>\n",
       "      <td>210</td>\n",
       "      <td>30</td>\n",
       "      <td>0</td>\n",
       "      <td>0.00</td>\n",
       "      <td>200380610</td>\n",
       "      <td>65</td>\n",
       "      <td>1</td>\n",
       "      <td>6300</td>\n",
       "    </tr>\n",
       "    <tr>\n",
       "      <th>4</th>\n",
       "      <td>444</td>\n",
       "      <td>Manhattan</td>\n",
       "      <td>40.82426</td>\n",
       "      <td>-73.94630</td>\n",
       "      <td>Shared room</td>\n",
       "      <td>75</td>\n",
       "      <td>3</td>\n",
       "      <td>38</td>\n",
       "      <td>0.42</td>\n",
       "      <td>745069</td>\n",
       "      <td>3</td>\n",
       "      <td>1</td>\n",
       "      <td>225</td>\n",
       "    </tr>\n",
       "  </tbody>\n",
       "</table>\n",
       "</div>"
      ],
      "text/plain": [
       "      id     region  latitude  longitude accommodation_type  cost  \\\n",
       "0  13232  Manhattan  40.71854  -74.00439    Entire home/apt   170   \n",
       "1    246   Brooklyn  40.64446  -73.95030    Entire home/apt    65   \n",
       "2  19091     Queens  40.78573  -73.81062       Private room    85   \n",
       "3  34305  Manhattan  40.73863  -73.98002       Private room   210   \n",
       "4    444  Manhattan  40.82426  -73.94630        Shared room    75   \n",
       "\n",
       "   minimum_nights  number_of_reviews  reviews_per_month   owner_id  \\\n",
       "0               5                  7               0.56     929983   \n",
       "1               3                238               2.30     281764   \n",
       "2               1                  0               0.00   19923341   \n",
       "3              30                  0               0.00  200380610   \n",
       "4               3                 38               0.42     745069   \n",
       "\n",
       "   owned_hotels  yearly_availability  total_cost  \n",
       "0             1                    0         850  \n",
       "1             1                    0         195  \n",
       "2             1                    1          85  \n",
       "3            65                    1        6300  \n",
       "4             3                    1         225  "
      ]
     },
     "execution_count": 105,
     "metadata": {},
     "output_type": "execute_result"
    }
   ],
   "source": [
    "# Minimum cost payable at the hotel\n",
    "df_train['total_cost'] = (df_train['cost'] * df_train['minimum_nights'])\n",
    "df_train.head()"
   ]
  },
  {
   "cell_type": "markdown",
   "metadata": {
    "colab": {},
    "colab_type": "code",
    "id": "7tBCHjd3IKSp"
   },
   "source": [
    "## Exploratory Data Analysis"
   ]
  },
  {
   "cell_type": "code",
   "execution_count": 106,
   "metadata": {
    "colab": {},
    "colab_type": "code",
    "id": "1Vk1EEy9IKSv"
   },
   "outputs": [
    {
     "data": {
      "image/png": "[encoded data removed]",
      "text/plain": [
       "<Figure size 576x576 with 2 Axes>"
      ]
     },
     "metadata": {
      "needs_background": "light"
     },
     "output_type": "display_data"
    }
   ],
   "source": [
    "# Correlation heatmap\n",
    "correlation = df_train.corr()\n",
    "plt.figure(figsize=(8, 8))\n",
    "sns.heatmap(correlation, vmax=1, square=True,annot=True,cmap='viridis') \n",
    "plt.title('Correlation between different fearures');"
   ]
  },
  {
   "cell_type": "code",
   "execution_count": 107,
   "metadata": {
    "colab": {},
    "colab_type": "code",
    "id": "nkQU41WSIKSz"
   },
   "outputs": [
    {
     "data": {
      "text/plain": [
       "Text(0.5, 1.0, 'Region vs Yealy Availability')"
      ]
     },
     "execution_count": 107,
     "metadata": {},
     "output_type": "execute_result"
    },
    {
     "data": {
      "image/png": "[encoded data removed]",
      "text/plain": [
       "<Figure size 1080x360 with 1 Axes>"
      ]
     },
     "metadata": {
      "needs_background": "light"
     },
     "output_type": "display_data"
    }
   ],
   "source": [
    "# Region vs Yealy Availability Count Plot\n",
    "plt.figure(figsize = (15,5))\n",
    "sns.countplot(x='region', hue = 'yearly_availability', data = df_train)\n",
    "plt.title('Region vs Yealy Availability')"
   ]
  },
  {
   "cell_type": "code",
   "execution_count": 108,
   "metadata": {},
   "outputs": [
    {
     "data": {
      "text/plain": [
       "Text(0, 0.5, 'total_cost')"
      ]
     },
     "execution_count": 108,
     "metadata": {},
     "output_type": "execute_result"
    },
    {
     "data": {
      "image/png": "[encoded data removed]",
      "text/plain": [
       "<Figure size 1080x360 with 1 Axes>"
      ]
     },
     "metadata": {
      "needs_background": "light"
     },
     "output_type": "display_data"
    }
   ],
   "source": [
    "# Total cost distribution region-wise\n",
    "x = df_train[[\"region\", \"total_cost\"]]\n",
    "\n",
    "fig, ax = plt.subplots(figsize=(15, 5));\n",
    "sns.boxplot(x = \"region\", y = \"total_cost\", data = x, palette = 'husl');\n",
    "\n",
    "plt.title('Region Boxplot Total_cost', fontsize = 18)\n",
    "ax.set_ylim(0, 5000)\n",
    "plt.xticks(fontsize = 14)\n",
    "plt.yticks(fontsize = 10);\n",
    "plt.xlabel(\"Region\", fontsize = 15)\n",
    "plt.ylabel(\"total_cost\", fontsize = 15)"
   ]
  },
  {
   "cell_type": "code",
   "execution_count": 109,
   "metadata": {},
   "outputs": [
    {
     "data": {
      "image/png": "[encoded data removed]",
      "text/plain": [
       "<Figure size 1080x360 with 1 Axes>"
      ]
     },
     "metadata": {
      "needs_background": "light"
     },
     "output_type": "display_data"
    }
   ],
   "source": [
    "# Yearly availability according to Accomodation Type\n",
    "plt.figure(figsize = (15,5))\n",
    "sns.countplot(x='accommodation_type', hue = 'yearly_availability', data = df_train)\n",
    "plt.title('Accommodation Type');"
   ]
  },
  {
   "cell_type": "code",
   "execution_count": 110,
   "metadata": {},
   "outputs": [
    {
     "data": {
      "text/plain": [
       "Text(0, 0.5, 'total_cost')"
      ]
     },
     "execution_count": 110,
     "metadata": {},
     "output_type": "execute_result"
    },
    {
     "data": {
      "image/png": "[encoded data removed]",
      "text/plain": [
       "<Figure size 1080x360 with 1 Axes>"
      ]
     },
     "metadata": {
      "needs_background": "light"
     },
     "output_type": "display_data"
    }
   ],
   "source": [
    "# Total cost distribution according to yearly availability\n",
    "x = df_train[[\"yearly_availability\", \"total_cost\"]]\n",
    "\n",
    "fig, ax = plt.subplots(figsize=(15, 5));\n",
    "sns.boxplot(x = \"yearly_availability\", y = \"total_cost\", data = x, palette = 'husl');\n",
    "\n",
    "plt.title('Yearly Availability vs Total Cost', fontsize = 18)\n",
    "ax.set_ylim(0, 5000)\n",
    "plt.xticks(fontsize = 14)\n",
    "plt.yticks(fontsize = 10);\n",
    "plt.xlabel(\"Yearly Availability\", fontsize = 15)\n",
    "plt.ylabel(\"total_cost\", fontsize = 15)"
   ]
  },
  {
   "cell_type": "markdown",
   "metadata": {},
   "source": [
    "## Data Modeling "
   ]
  },
  {
   "cell_type": "code",
   "execution_count": 111,
   "metadata": {},
   "outputs": [
    {
     "data": {
      "text/html": [
       "<div>\n",
       "<style scoped>\n",
       "    .dataframe tbody tr th:only-of-type {\n",
       "        vertical-align: middle;\n",
       "    }\n",
       "\n",
       "    .dataframe tbody tr th {\n",
       "        vertical-align: top;\n",
       "    }\n",
       "\n",
       "    .dataframe thead th {\n",
       "        text-align: right;\n",
       "    }\n",
       "</style>\n",
       "<table border=\"1\" class=\"dataframe\">\n",
       "  <thead>\n",
       "    <tr style=\"text-align: right;\">\n",
       "      <th></th>\n",
       "      <th>id</th>\n",
       "      <th>region</th>\n",
       "      <th>latitude</th>\n",
       "      <th>longitude</th>\n",
       "      <th>accommodation_type</th>\n",
       "      <th>cost</th>\n",
       "      <th>minimum_nights</th>\n",
       "      <th>number_of_reviews</th>\n",
       "      <th>reviews_per_month</th>\n",
       "      <th>owner_id</th>\n",
       "      <th>owned_hotels</th>\n",
       "      <th>yearly_availability</th>\n",
       "      <th>total_cost</th>\n",
       "    </tr>\n",
       "  </thead>\n",
       "  <tbody>\n",
       "    <tr>\n",
       "      <th>0</th>\n",
       "      <td>13232</td>\n",
       "      <td>Manhattan</td>\n",
       "      <td>40.71854</td>\n",
       "      <td>-74.00439</td>\n",
       "      <td>Entire home/apt</td>\n",
       "      <td>170</td>\n",
       "      <td>5</td>\n",
       "      <td>7</td>\n",
       "      <td>0.56</td>\n",
       "      <td>929983</td>\n",
       "      <td>1</td>\n",
       "      <td>0</td>\n",
       "      <td>850</td>\n",
       "    </tr>\n",
       "    <tr>\n",
       "      <th>1</th>\n",
       "      <td>246</td>\n",
       "      <td>Brooklyn</td>\n",
       "      <td>40.64446</td>\n",
       "      <td>-73.95030</td>\n",
       "      <td>Entire home/apt</td>\n",
       "      <td>65</td>\n",
       "      <td>3</td>\n",
       "      <td>238</td>\n",
       "      <td>2.30</td>\n",
       "      <td>281764</td>\n",
       "      <td>1</td>\n",
       "      <td>0</td>\n",
       "      <td>195</td>\n",
       "    </tr>\n",
       "    <tr>\n",
       "      <th>2</th>\n",
       "      <td>19091</td>\n",
       "      <td>Queens</td>\n",
       "      <td>40.78573</td>\n",
       "      <td>-73.81062</td>\n",
       "      <td>Private room</td>\n",
       "      <td>85</td>\n",
       "      <td>1</td>\n",
       "      <td>0</td>\n",
       "      <td>0.00</td>\n",
       "      <td>19923341</td>\n",
       "      <td>1</td>\n",
       "      <td>1</td>\n",
       "      <td>85</td>\n",
       "    </tr>\n",
       "    <tr>\n",
       "      <th>3</th>\n",
       "      <td>34305</td>\n",
       "      <td>Manhattan</td>\n",
       "      <td>40.73863</td>\n",
       "      <td>-73.98002</td>\n",
       "      <td>Private room</td>\n",
       "      <td>210</td>\n",
       "      <td>30</td>\n",
       "      <td>0</td>\n",
       "      <td>0.00</td>\n",
       "      <td>200380610</td>\n",
       "      <td>65</td>\n",
       "      <td>1</td>\n",
       "      <td>6300</td>\n",
       "    </tr>\n",
       "    <tr>\n",
       "      <th>4</th>\n",
       "      <td>444</td>\n",
       "      <td>Manhattan</td>\n",
       "      <td>40.82426</td>\n",
       "      <td>-73.94630</td>\n",
       "      <td>Shared room</td>\n",
       "      <td>75</td>\n",
       "      <td>3</td>\n",
       "      <td>38</td>\n",
       "      <td>0.42</td>\n",
       "      <td>745069</td>\n",
       "      <td>3</td>\n",
       "      <td>1</td>\n",
       "      <td>225</td>\n",
       "    </tr>\n",
       "  </tbody>\n",
       "</table>\n",
       "</div>"
      ],
      "text/plain": [
       "      id     region  latitude  longitude accommodation_type  cost  \\\n",
       "0  13232  Manhattan  40.71854  -74.00439    Entire home/apt   170   \n",
       "1    246   Brooklyn  40.64446  -73.95030    Entire home/apt    65   \n",
       "2  19091     Queens  40.78573  -73.81062       Private room    85   \n",
       "3  34305  Manhattan  40.73863  -73.98002       Private room   210   \n",
       "4    444  Manhattan  40.82426  -73.94630        Shared room    75   \n",
       "\n",
       "   minimum_nights  number_of_reviews  reviews_per_month   owner_id  \\\n",
       "0               5                  7               0.56     929983   \n",
       "1               3                238               2.30     281764   \n",
       "2               1                  0               0.00   19923341   \n",
       "3              30                  0               0.00  200380610   \n",
       "4               3                 38               0.42     745069   \n",
       "\n",
       "   owned_hotels  yearly_availability  total_cost  \n",
       "0             1                    0         850  \n",
       "1             1                    0         195  \n",
       "2             1                    1          85  \n",
       "3            65                    1        6300  \n",
       "4             3                    1         225  "
      ]
     },
     "execution_count": 111,
     "metadata": {},
     "output_type": "execute_result"
    }
   ],
   "source": [
    "df_train.head()"
   ]
  },
  {
   "cell_type": "code",
   "execution_count": 112,
   "metadata": {},
   "outputs": [
    {
     "data": {
      "text/plain": [
       "Index(['id', 'region', 'latitude', 'longitude', 'accommodation_type', 'cost',\n",
       "       'minimum_nights', 'number_of_reviews', 'reviews_per_month', 'owner_id',\n",
       "       'owned_hotels', 'yearly_availability', 'total_cost'],\n",
       "      dtype='object')"
      ]
     },
     "execution_count": 112,
     "metadata": {},
     "output_type": "execute_result"
    }
   ],
   "source": [
    "df_train.columns"
   ]
  },
  {
   "cell_type": "code",
   "execution_count": 113,
   "metadata": {},
   "outputs": [],
   "source": [
    "#Selecting the most important features on the basis of above done EDA\n",
    "l = ['region', 'accommodation_type', 'number_of_reviews', 'reviews_per_month',\n",
    "       'owned_hotels', 'total_cost']"
   ]
  },
  {
   "cell_type": "code",
   "execution_count": 114,
   "metadata": {},
   "outputs": [],
   "source": [
    "#Taking the features and target Value\n",
    "x_train = df_train[l]\n",
    "y_train = df_train['yearly_availability']"
   ]
  },
  {
   "cell_type": "code",
   "execution_count": 115,
   "metadata": {},
   "outputs": [],
   "source": [
    "#Converting Categorical Variables into dummy variables for modeling purpose \n",
    "x_data = pd.get_dummies(x_train)"
   ]
  },
  {
   "cell_type": "code",
   "execution_count": 116,
   "metadata": {},
   "outputs": [
    {
     "data": {
      "text/html": [
       "<div>\n",
       "<style scoped>\n",
       "    .dataframe tbody tr th:only-of-type {\n",
       "        vertical-align: middle;\n",
       "    }\n",
       "\n",
       "    .dataframe tbody tr th {\n",
       "        vertical-align: top;\n",
       "    }\n",
       "\n",
       "    .dataframe thead th {\n",
       "        text-align: right;\n",
       "    }\n",
       "</style>\n",
       "<table border=\"1\" class=\"dataframe\">\n",
       "  <thead>\n",
       "    <tr style=\"text-align: right;\">\n",
       "      <th></th>\n",
       "      <th>number_of_reviews</th>\n",
       "      <th>reviews_per_month</th>\n",
       "      <th>owned_hotels</th>\n",
       "      <th>total_cost</th>\n",
       "      <th>region_Bronx</th>\n",
       "      <th>region_Brooklyn</th>\n",
       "      <th>region_Manhattan</th>\n",
       "      <th>region_Queens</th>\n",
       "      <th>region_Staten Island</th>\n",
       "      <th>accommodation_type_Entire home/apt</th>\n",
       "      <th>accommodation_type_Private room</th>\n",
       "      <th>accommodation_type_Shared room</th>\n",
       "    </tr>\n",
       "  </thead>\n",
       "  <tbody>\n",
       "    <tr>\n",
       "      <th>0</th>\n",
       "      <td>7</td>\n",
       "      <td>0.56</td>\n",
       "      <td>1</td>\n",
       "      <td>850</td>\n",
       "      <td>0</td>\n",
       "      <td>0</td>\n",
       "      <td>1</td>\n",
       "      <td>0</td>\n",
       "      <td>0</td>\n",
       "      <td>1</td>\n",
       "      <td>0</td>\n",
       "      <td>0</td>\n",
       "    </tr>\n",
       "    <tr>\n",
       "      <th>1</th>\n",
       "      <td>238</td>\n",
       "      <td>2.30</td>\n",
       "      <td>1</td>\n",
       "      <td>195</td>\n",
       "      <td>0</td>\n",
       "      <td>1</td>\n",
       "      <td>0</td>\n",
       "      <td>0</td>\n",
       "      <td>0</td>\n",
       "      <td>1</td>\n",
       "      <td>0</td>\n",
       "      <td>0</td>\n",
       "    </tr>\n",
       "    <tr>\n",
       "      <th>2</th>\n",
       "      <td>0</td>\n",
       "      <td>0.00</td>\n",
       "      <td>1</td>\n",
       "      <td>85</td>\n",
       "      <td>0</td>\n",
       "      <td>0</td>\n",
       "      <td>0</td>\n",
       "      <td>1</td>\n",
       "      <td>0</td>\n",
       "      <td>0</td>\n",
       "      <td>1</td>\n",
       "      <td>0</td>\n",
       "    </tr>\n",
       "    <tr>\n",
       "      <th>3</th>\n",
       "      <td>0</td>\n",
       "      <td>0.00</td>\n",
       "      <td>65</td>\n",
       "      <td>6300</td>\n",
       "      <td>0</td>\n",
       "      <td>0</td>\n",
       "      <td>1</td>\n",
       "      <td>0</td>\n",
       "      <td>0</td>\n",
       "      <td>0</td>\n",
       "      <td>1</td>\n",
       "      <td>0</td>\n",
       "    </tr>\n",
       "    <tr>\n",
       "      <th>4</th>\n",
       "      <td>38</td>\n",
       "      <td>0.42</td>\n",
       "      <td>3</td>\n",
       "      <td>225</td>\n",
       "      <td>0</td>\n",
       "      <td>0</td>\n",
       "      <td>1</td>\n",
       "      <td>0</td>\n",
       "      <td>0</td>\n",
       "      <td>0</td>\n",
       "      <td>0</td>\n",
       "      <td>1</td>\n",
       "    </tr>\n",
       "  </tbody>\n",
       "</table>\n",
       "</div>"
      ],
      "text/plain": [
       "   number_of_reviews  reviews_per_month  owned_hotels  total_cost  \\\n",
       "0                  7               0.56             1         850   \n",
       "1                238               2.30             1         195   \n",
       "2                  0               0.00             1          85   \n",
       "3                  0               0.00            65        6300   \n",
       "4                 38               0.42             3         225   \n",
       "\n",
       "   region_Bronx  region_Brooklyn  region_Manhattan  region_Queens  \\\n",
       "0             0                0                 1              0   \n",
       "1             0                1                 0              0   \n",
       "2             0                0                 0              1   \n",
       "3             0                0                 1              0   \n",
       "4             0                0                 1              0   \n",
       "\n",
       "   region_Staten Island  accommodation_type_Entire home/apt  \\\n",
       "0                     0                                   1   \n",
       "1                     0                                   1   \n",
       "2                     0                                   0   \n",
       "3                     0                                   0   \n",
       "4                     0                                   0   \n",
       "\n",
       "   accommodation_type_Private room  accommodation_type_Shared room  \n",
       "0                                0                               0  \n",
       "1                                0                               0  \n",
       "2                                1                               0  \n",
       "3                                1                               0  \n",
       "4                                0                               1  "
      ]
     },
     "execution_count": 116,
     "metadata": {},
     "output_type": "execute_result"
    }
   ],
   "source": [
    "x_data.head()"
   ]
  },
  {
   "cell_type": "code",
   "execution_count": 117,
   "metadata": {},
   "outputs": [
    {
     "data": {
      "text/html": [
       "<div>\n",
       "<style scoped>\n",
       "    .dataframe tbody tr th:only-of-type {\n",
       "        vertical-align: middle;\n",
       "    }\n",
       "\n",
       "    .dataframe tbody tr th {\n",
       "        vertical-align: top;\n",
       "    }\n",
       "\n",
       "    .dataframe thead th {\n",
       "        text-align: right;\n",
       "    }\n",
       "</style>\n",
       "<table border=\"1\" class=\"dataframe\">\n",
       "  <thead>\n",
       "    <tr style=\"text-align: right;\">\n",
       "      <th></th>\n",
       "      <th>number_of_reviews</th>\n",
       "      <th>reviews_per_month</th>\n",
       "      <th>owned_hotels</th>\n",
       "      <th>total_cost</th>\n",
       "      <th>region_Bronx</th>\n",
       "      <th>region_Brooklyn</th>\n",
       "      <th>region_Manhattan</th>\n",
       "      <th>region_Queens</th>\n",
       "      <th>region_Staten Island</th>\n",
       "      <th>accommodation_type_Entire home/apt</th>\n",
       "      <th>accommodation_type_Private room</th>\n",
       "      <th>accommodation_type_Shared room</th>\n",
       "    </tr>\n",
       "  </thead>\n",
       "  <tbody>\n",
       "    <tr>\n",
       "      <th>0</th>\n",
       "      <td>0.017722</td>\n",
       "      <td>0.054002</td>\n",
       "      <td>0.000000</td>\n",
       "      <td>0.000709</td>\n",
       "      <td>0.0</td>\n",
       "      <td>0.0</td>\n",
       "      <td>1.0</td>\n",
       "      <td>0.0</td>\n",
       "      <td>0.0</td>\n",
       "      <td>1.0</td>\n",
       "      <td>0.0</td>\n",
       "      <td>0.0</td>\n",
       "    </tr>\n",
       "    <tr>\n",
       "      <th>1</th>\n",
       "      <td>0.602532</td>\n",
       "      <td>0.221794</td>\n",
       "      <td>0.000000</td>\n",
       "      <td>0.000150</td>\n",
       "      <td>0.0</td>\n",
       "      <td>1.0</td>\n",
       "      <td>0.0</td>\n",
       "      <td>0.0</td>\n",
       "      <td>0.0</td>\n",
       "      <td>1.0</td>\n",
       "      <td>0.0</td>\n",
       "      <td>0.0</td>\n",
       "    </tr>\n",
       "    <tr>\n",
       "      <th>2</th>\n",
       "      <td>0.000000</td>\n",
       "      <td>0.000000</td>\n",
       "      <td>0.000000</td>\n",
       "      <td>0.000056</td>\n",
       "      <td>0.0</td>\n",
       "      <td>0.0</td>\n",
       "      <td>0.0</td>\n",
       "      <td>1.0</td>\n",
       "      <td>0.0</td>\n",
       "      <td>0.0</td>\n",
       "      <td>1.0</td>\n",
       "      <td>0.0</td>\n",
       "    </tr>\n",
       "    <tr>\n",
       "      <th>3</th>\n",
       "      <td>0.000000</td>\n",
       "      <td>0.000000</td>\n",
       "      <td>0.196319</td>\n",
       "      <td>0.005368</td>\n",
       "      <td>0.0</td>\n",
       "      <td>0.0</td>\n",
       "      <td>1.0</td>\n",
       "      <td>0.0</td>\n",
       "      <td>0.0</td>\n",
       "      <td>0.0</td>\n",
       "      <td>1.0</td>\n",
       "      <td>0.0</td>\n",
       "    </tr>\n",
       "    <tr>\n",
       "      <th>4</th>\n",
       "      <td>0.096203</td>\n",
       "      <td>0.040501</td>\n",
       "      <td>0.006135</td>\n",
       "      <td>0.000175</td>\n",
       "      <td>0.0</td>\n",
       "      <td>0.0</td>\n",
       "      <td>1.0</td>\n",
       "      <td>0.0</td>\n",
       "      <td>0.0</td>\n",
       "      <td>0.0</td>\n",
       "      <td>0.0</td>\n",
       "      <td>1.0</td>\n",
       "    </tr>\n",
       "  </tbody>\n",
       "</table>\n",
       "</div>"
      ],
      "text/plain": [
       "   number_of_reviews  reviews_per_month  owned_hotels  total_cost  \\\n",
       "0           0.017722           0.054002      0.000000    0.000709   \n",
       "1           0.602532           0.221794      0.000000    0.000150   \n",
       "2           0.000000           0.000000      0.000000    0.000056   \n",
       "3           0.000000           0.000000      0.196319    0.005368   \n",
       "4           0.096203           0.040501      0.006135    0.000175   \n",
       "\n",
       "   region_Bronx  region_Brooklyn  region_Manhattan  region_Queens  \\\n",
       "0           0.0              0.0               1.0            0.0   \n",
       "1           0.0              1.0               0.0            0.0   \n",
       "2           0.0              0.0               0.0            1.0   \n",
       "3           0.0              0.0               1.0            0.0   \n",
       "4           0.0              0.0               1.0            0.0   \n",
       "\n",
       "   region_Staten Island  accommodation_type_Entire home/apt  \\\n",
       "0                   0.0                                 1.0   \n",
       "1                   0.0                                 1.0   \n",
       "2                   0.0                                 0.0   \n",
       "3                   0.0                                 0.0   \n",
       "4                   0.0                                 0.0   \n",
       "\n",
       "   accommodation_type_Private room  accommodation_type_Shared room  \n",
       "0                              0.0                             0.0  \n",
       "1                              0.0                             0.0  \n",
       "2                              1.0                             0.0  \n",
       "3                              1.0                             0.0  \n",
       "4                              0.0                             1.0  "
      ]
     },
     "execution_count": 117,
     "metadata": {},
     "output_type": "execute_result"
    }
   ],
   "source": [
    "# Scaling all values between 0 and 1\n",
    "from sklearn.preprocessing import MinMaxScaler\n",
    "cols = x_data.columns\n",
    "min_max_scaler = MinMaxScaler()\n",
    "np_scaled = min_max_scaler.fit_transform(x_data)\n",
    "\n",
    "X = pd.DataFrame(np_scaled, columns = cols)\n",
    "X.head()"
   ]
  },
  {
   "cell_type": "code",
   "execution_count": 118,
   "metadata": {},
   "outputs": [],
   "source": [
    "# creating train test validation split as 70,15,15\n",
    "X_train, X_test, y_train, y_test = train_test_split(X, y_train, test_size=0.3, random_state=42)\n",
    "X_test, X_val, y_test, y_val = train_test_split(X_test, y_test, test_size = 0.5, random_state = 42)"
   ]
  },
  {
   "cell_type": "code",
   "execution_count": 119,
   "metadata": {},
   "outputs": [],
   "source": [
    "# Model_assess gets us the accuracy,F1 score and Confusion Matrix  \n",
    "def model_assess(model, title = \"Default\"):\n",
    "    model.fit(X_train, y_train)\n",
    "    preds = model.predict(X_test)\n",
    "    #print(confusion_matrix(y_test, preds))\n",
    "    print(\"F1 Score: \",f1_score(y_test,preds, average='macro'))\n",
    "    cm = confusion_matrix(y_test, preds)\n",
    "    sns.heatmap(cm, annot=True)\n",
    "    print('Accuracy', title, ':', round(accuracy_score(y_test, preds), 5), '\\n')"
   ]
  },
  {
   "cell_type": "markdown",
   "metadata": {},
   "source": [
    "### XGBoost Classifier"
   ]
  },
  {
   "cell_type": "code",
   "execution_count": 120,
   "metadata": {},
   "outputs": [
    {
     "name": "stderr",
     "output_type": "stream",
     "text": [
      "/opt/conda/lib/python3.7/site-packages/xgboost/sklearn.py:1224: UserWarning: The use of label encoder in XGBClassifier is deprecated and will be removed in a future release. To remove this warning, do the following: 1) Pass option use_label_encoder=False when constructing XGBClassifier object; and 2) Encode your labels (y) as integers starting with 0, i.e. 0, 1, 2, ..., [num_class - 1].\n",
      "  warnings.warn(label_encoder_deprecation_msg, UserWarning)\n"
     ]
    },
    {
     "name": "stdout",
     "output_type": "stream",
     "text": [
      "[22:32:31] WARNING: ../src/learner.cc:1115: Starting in XGBoost 1.3.0, the default evaluation metric used with the objective 'binary:logistic' was changed from 'error' to 'logloss'. Explicitly set eval_metric if you'd like to restore the old behavior.\n",
      "F1 Score:  0.9302189717846633\n",
      "Accuracy Cross Gradient Booster : 0.93023 \n",
      "\n"
     ]
    },
    {
     "data": {
      "image/png": "[encoded data removed]",
      "text/plain": [
       "<Figure size 432x288 with 2 Axes>"
      ]
     },
     "metadata": {
      "needs_background": "light"
     },
     "output_type": "display_data"
    }
   ],
   "source": [
    "xgb = XGBClassifier(n_estimators=1000, learning_rate=0.005)\n",
    "model_assess(xgb, \"Cross Gradient Booster\")"
   ]
  },
  {
   "cell_type": "markdown",
   "metadata": {},
   "source": [
    "## Stochastic Gradient Descent"
   ]
  },
  {
   "cell_type": "code",
   "execution_count": 121,
   "metadata": {},
   "outputs": [
    {
     "name": "stdout",
     "output_type": "stream",
     "text": [
      "F1 Score:  0.8195945099193052\n",
      "Accuracy Stochastic Gradient Descent : 0.82093 \n",
      "\n"
     ]
    },
    {
     "data": {
      "image/png": "[encoded data removed]",
      "text/plain": [
       "<Figure size 432x288 with 2 Axes>"
      ]
     },
     "metadata": {
      "needs_background": "light"
     },
     "output_type": "display_data"
    }
   ],
   "source": [
    "sgd = SGDClassifier(max_iter=50000, random_state=0)\n",
    "model_assess(sgd, \"Stochastic Gradient Descent\")"
   ]
  },
  {
   "cell_type": "markdown",
   "metadata": {},
   "source": [
    "## Multi Layer Perceptron"
   ]
  },
  {
   "cell_type": "code",
   "execution_count": 122,
   "metadata": {},
   "outputs": [
    {
     "name": "stdout",
     "output_type": "stream",
     "text": [
      "F1 Score:  0.9069586290462177\n",
      "Accuracy Neural Nets : 0.90698 \n",
      "\n"
     ]
    },
    {
     "data": {
      "image/png": "[encoded data removed]",
      "text/plain": [
       "<Figure size 432x288 with 2 Axes>"
      ]
     },
     "metadata": {
      "needs_background": "light"
     },
     "output_type": "display_data"
    }
   ],
   "source": [
    "nn = MLPClassifier(solver='adam', alpha=1e-5, activation='relu', hidden_layer_sizes=(1000, 100), random_state=1)\n",
    "model_assess(nn, \"Neural Nets\")"
   ]
  },
  {
   "cell_type": "markdown",
   "metadata": {},
   "source": [
    "## Support Vector Machine"
   ]
  },
  {
   "cell_type": "code",
   "execution_count": 123,
   "metadata": {},
   "outputs": [
    {
     "name": "stderr",
     "output_type": "stream",
     "text": [
      "/opt/conda/lib/python3.7/site-packages/sklearn/svm/base.py:193: FutureWarning: The default value of gamma will change from 'auto' to 'scale' in version 0.22 to account better for unscaled features. Set gamma explicitly to 'auto' or 'scale' to avoid this warning.\n",
      "  \"avoid this warning.\", FutureWarning)\n"
     ]
    },
    {
     "name": "stdout",
     "output_type": "stream",
     "text": [
      "F1 Score:  0.8149086530340923\n",
      "Accuracy Support Vector Machine : 0.81628 \n",
      "\n"
     ]
    },
    {
     "data": {
      "image/png": "[encoded data removed]",
      "text/plain": [
       "<Figure size 432x288 with 2 Axes>"
      ]
     },
     "metadata": {
      "needs_background": "light"
     },
     "output_type": "display_data"
    }
   ],
   "source": [
    "svm = SVC(decision_function_shape=\"ovo\")\n",
    "model_assess(svm, \"Support Vector Machine\")"
   ]
  },
  {
   "cell_type": "markdown",
   "metadata": {},
   "source": [
    "## Random Forest Classifier"
   ]
  },
  {
   "cell_type": "code",
   "execution_count": 124,
   "metadata": {},
   "outputs": [
    {
     "name": "stdout",
     "output_type": "stream",
     "text": [
      "F1 Score:  0.9232221795378182\n",
      "Accuracy Random Forest : 0.92326 \n",
      "\n"
     ]
    },
    {
     "data": {
      "image/png": "[encoded data removed]",
      "text/plain": [
       "<Figure size 432x288 with 2 Axes>"
      ]
     },
     "metadata": {
      "needs_background": "light"
     },
     "output_type": "display_data"
    }
   ],
   "source": [
    "rforest = RandomForestClassifier(n_estimators=1000, max_depth=10, random_state=0)\n",
    "model_assess(rforest, \"Random Forest\")"
   ]
  },
  {
   "cell_type": "markdown",
   "metadata": {
    "colab_type": "text",
    "id": "MK_rdXETIKS4"
   },
   "source": [
    "\n",
    "\n",
    "**Highlight the most important features of the model for management.**\n",
    "\n",
    "> #### Task:\n",
    "- **Visualize the top 20 features and their feature importance.**\n"
   ]
  },
  {
   "cell_type": "markdown",
   "metadata": {},
   "source": [
    "## LGBM"
   ]
  },
  {
   "cell_type": "code",
   "execution_count": 125,
   "metadata": {
    "colab": {},
    "colab_type": "code",
    "id": "HHFM3XPMIKS6"
   },
   "outputs": [
    {
     "name": "stderr",
     "output_type": "stream",
     "text": [
      "/opt/conda/lib/python3.7/site-packages/lightgbm/sklearn.py:598: UserWarning: 'silent' argument is deprecated and will be removed in a future release of LightGBM. Pass 'verbose' parameter via keyword arguments instead.\n",
      "  _log_warning(\"'silent' argument is deprecated and will be removed in a future release of LightGBM. \"\n",
      "/opt/conda/lib/python3.7/site-packages/lightgbm/sklearn.py:726: UserWarning: 'early_stopping_rounds' argument is deprecated and will be removed in a future release of LightGBM. Pass 'early_stopping()' callback via 'callbacks' argument instead.\n",
      "  _log_warning(\"'early_stopping_rounds' argument is deprecated and will be removed in a future release of LightGBM. \"\n",
      "/opt/conda/lib/python3.7/site-packages/lightgbm/sklearn.py:736: UserWarning: 'verbose' argument is deprecated and will be removed in a future release of LightGBM. Pass 'log_evaluation()' callback via 'callbacks' argument instead.\n",
      "  _log_warning(\"'verbose' argument is deprecated and will be removed in a future release of LightGBM. \"\n"
     ]
    },
    {
     "name": "stdout",
     "output_type": "stream",
     "text": [
      "[100]\ttraining's binary_logloss: 0.309104\tvalid_1's binary_logloss: 0.346385\n",
      "[200]\ttraining's binary_logloss: 0.204012\tvalid_1's binary_logloss: 0.269666\n",
      "[300]\ttraining's binary_logloss: 0.157911\tvalid_1's binary_logloss: 0.250134\n",
      "[400]\ttraining's binary_logloss: 0.13034\tvalid_1's binary_logloss: 0.252445\n",
      "[500]\ttraining's binary_logloss: 0.108527\tvalid_1's binary_logloss: 0.24872\n",
      "[600]\ttraining's binary_logloss: 0.0928144\tvalid_1's binary_logloss: 0.252093\n",
      "[700]\ttraining's binary_logloss: 0.0803286\tvalid_1's binary_logloss: 0.256726\n",
      "[800]\ttraining's binary_logloss: 0.070542\tvalid_1's binary_logloss: 0.262014\n",
      "[900]\ttraining's binary_logloss: 0.0625043\tvalid_1's binary_logloss: 0.266121\n"
     ]
    },
    {
     "data": {
      "text/plain": [
       "LGBMClassifier(boosting_type='gbdt', class_weight=None, colsample_bytree=1.0,\n",
       "               importance_type='split', learning_rate=0.01, max_depth=10,\n",
       "               min_child_samples=20, min_child_weight=0.001, min_split_gain=0.0,\n",
       "               n_estimators=10000, n_jobs=-1, num_leaves=30, objective=None,\n",
       "               random_state=42, reg_alpha=0.1, reg_lambda=0.1, silent=-1,\n",
       "               subsample=1.0, subsample_for_bin=200000, subsample_freq=0,\n",
       "               verbose=-1)"
      ]
     },
     "execution_count": 125,
     "metadata": {},
     "output_type": "execute_result"
    }
   ],
   "source": [
    "clf = LGBMClassifier(num_leaves=30, max_depth=10, learning_rate=0.01, n_estimators=10000, reg_alpha=0.1, reg_lambda=0.1, silent=-1, verbose =-1, random_state=42)\n",
    "clf.fit(X_train, y_train, eval_set=[(X_train, y_train), (X_val, y_val)], verbose = 100, early_stopping_rounds= 500)"
   ]
  },
  {
   "cell_type": "code",
   "execution_count": 126,
   "metadata": {
    "colab": {},
    "colab_type": "code",
    "id": "jabG4TJwIKS_"
   },
   "outputs": [],
   "source": [
    "fold_importance_df = pd.DataFrame()\n",
    "feature_importance_df = pd.DataFrame()\n",
    "fold_importance_df['feature'] = X_train.columns\n",
    "fold_importance_df['importance'] = clf.feature_importances_\n",
    "feature_importance_df = pd.concat([feature_importance_df,fold_importance_df], axis=0)"
   ]
  },
  {
   "cell_type": "markdown",
   "metadata": {},
   "source": [
    "## Feature Importance Plot uing LGBM"
   ]
  },
  {
   "cell_type": "code",
   "execution_count": 127,
   "metadata": {},
   "outputs": [
    {
     "data": {
      "text/plain": [
       "Text(0.5, 1.0, 'LGBM Features (avg over folds)')"
      ]
     },
     "execution_count": 127,
     "metadata": {},
     "output_type": "execute_result"
    },
    {
     "data": {
      "image/png": "[encoded data removed]",
      "text/plain": [
       "<Figure size 720x576 with 1 Axes>"
      ]
     },
     "metadata": {
      "needs_background": "light"
     },
     "output_type": "display_data"
    }
   ],
   "source": [
    "## plotting feature importance matrix\n",
    "cols = feature_importance_df[['feature','importance']].groupby('feature').mean().sort_values(by = \"importance\", ascending=False)[:20].index\n",
    "\n",
    "best_features = feature_importance_df.loc[feature_importance_df.feature.isin(cols)]\n",
    "\n",
    "plt.figure(figsize=(10,8))\n",
    "sns.barplot(x='importance',y = 'feature', data=best_features.sort_values(by=\"importance\", ascending=False))\n",
    "plt.title(\"LGBM Features (avg over folds)\")"
   ]
  },
  {
   "cell_type": "code",
   "execution_count": 128,
   "metadata": {},
   "outputs": [],
   "source": [
    "y_pred_lgbm = clf.predict(X_test)"
   ]
  },
  {
   "cell_type": "code",
   "execution_count": 129,
   "metadata": {},
   "outputs": [
    {
     "name": "stdout",
     "output_type": "stream",
     "text": [
      "0.9302325581395349\n"
     ]
    }
   ],
   "source": [
    "print(accuracy_score(y_test, y_pred_lgbm))"
   ]
  },
  {
   "cell_type": "markdown",
   "metadata": {},
   "source": [
    "## Recursive Feature Elimination "
   ]
  },
  {
   "cell_type": "code",
   "execution_count": 130,
   "metadata": {},
   "outputs": [
    {
     "name": "stderr",
     "output_type": "stream",
     "text": [
      "/opt/conda/lib/python3.7/site-packages/lightgbm/sklearn.py:598: UserWarning: 'silent' argument is deprecated and will be removed in a future release of LightGBM. Pass 'verbose' parameter via keyword arguments instead.\n",
      "  _log_warning(\"'silent' argument is deprecated and will be removed in a future release of LightGBM. \"\n",
      "/opt/conda/lib/python3.7/site-packages/lightgbm/sklearn.py:598: UserWarning: 'silent' argument is deprecated and will be removed in a future release of LightGBM. Pass 'verbose' parameter via keyword arguments instead.\n",
      "  _log_warning(\"'silent' argument is deprecated and will be removed in a future release of LightGBM. \"\n",
      "/opt/conda/lib/python3.7/site-packages/lightgbm/sklearn.py:598: UserWarning: 'silent' argument is deprecated and will be removed in a future release of LightGBM. Pass 'verbose' parameter via keyword arguments instead.\n",
      "  _log_warning(\"'silent' argument is deprecated and will be removed in a future release of LightGBM. \"\n",
      "/opt/conda/lib/python3.7/site-packages/lightgbm/sklearn.py:598: UserWarning: 'silent' argument is deprecated and will be removed in a future release of LightGBM. Pass 'verbose' parameter via keyword arguments instead.\n",
      "  _log_warning(\"'silent' argument is deprecated and will be removed in a future release of LightGBM. \"\n",
      "/opt/conda/lib/python3.7/site-packages/lightgbm/sklearn.py:598: UserWarning: 'silent' argument is deprecated and will be removed in a future release of LightGBM. Pass 'verbose' parameter via keyword arguments instead.\n",
      "  _log_warning(\"'silent' argument is deprecated and will be removed in a future release of LightGBM. \"\n",
      "/opt/conda/lib/python3.7/site-packages/lightgbm/sklearn.py:598: UserWarning: 'silent' argument is deprecated and will be removed in a future release of LightGBM. Pass 'verbose' parameter via keyword arguments instead.\n",
      "  _log_warning(\"'silent' argument is deprecated and will be removed in a future release of LightGBM. \"\n",
      "/opt/conda/lib/python3.7/site-packages/lightgbm/sklearn.py:598: UserWarning: 'silent' argument is deprecated and will be removed in a future release of LightGBM. Pass 'verbose' parameter via keyword arguments instead.\n",
      "  _log_warning(\"'silent' argument is deprecated and will be removed in a future release of LightGBM. \"\n",
      "/opt/conda/lib/python3.7/site-packages/lightgbm/sklearn.py:598: UserWarning: 'silent' argument is deprecated and will be removed in a future release of LightGBM. Pass 'verbose' parameter via keyword arguments instead.\n",
      "  _log_warning(\"'silent' argument is deprecated and will be removed in a future release of LightGBM. \"\n"
     ]
    },
    {
     "data": {
      "text/plain": [
       "RFE(estimator=LGBMClassifier(boosting_type='gbdt', class_weight=None,\n",
       "                             colsample_bytree=1.0, importance_type='split',\n",
       "                             learning_rate=0.01, max_depth=10,\n",
       "                             min_child_samples=20, min_child_weight=0.001,\n",
       "                             min_split_gain=0.0, n_estimators=10000, n_jobs=-1,\n",
       "                             num_leaves=30, objective=None, random_state=42,\n",
       "                             reg_alpha=0.1, reg_lambda=0.1, silent=-1,\n",
       "                             subsample=1.0, subsample_for_bin=200000,\n",
       "                             subsample_freq=0, verbose=-1),\n",
       "    n_features_to_select=5, step=1, verbose=0)"
      ]
     },
     "execution_count": 130,
     "metadata": {},
     "output_type": "execute_result"
    }
   ],
   "source": [
    "from sklearn.feature_selection import RFE\n",
    "selector = RFE(clf, n_features_to_select=5, step=1)\n",
    "selector.fit(X_train, y_train)"
   ]
  },
  {
   "cell_type": "code",
   "execution_count": null,
   "metadata": {},
   "outputs": [],
   "source": [
    "sel_pred = selector.predict(X_val)"
   ]
  },
  {
   "cell_type": "code",
   "execution_count": 65,
   "metadata": {},
   "outputs": [
    {
     "name": "stdout",
     "output_type": "stream",
     "text": [
      "0.8955916473317865\n"
     ]
    }
   ],
   "source": [
    "print(accuracy_score(y_val, sel_pred))"
   ]
  },
  {
   "cell_type": "markdown",
   "metadata": {
    "colab_type": "text",
    "id": "UFogmgYZIKTE"
   },
   "source": [
    "> #### Task:\n",
    "- **Submit the predictions on the test dataset using your optimized model** <br/>\n",
    "    For each record in the test set (`test.csv`), predict the value of the `yearly_availability` variable. Submit a CSV file with a header row and one row per test entry.\n",
    "\n",
    "The file (`submissions.csv`) should have exactly 2 columns:\n",
    "   - **id**\n",
    "   - **yearly_availability**"
   ]
  },
  {
   "cell_type": "code",
   "execution_count": 132,
   "metadata": {
    "colab": {},
    "colab_type": "code",
    "id": "7xgNg25MIKTG"
   },
   "outputs": [
    {
     "data": {
      "text/plain": [
       "Index(['id', 'region', 'latitude', 'longitude', 'accommodation_type', 'cost',\n",
       "       'minimum_nights', 'number_of_reviews', 'reviews_per_month', 'owner_id',\n",
       "       'owned_hotels'],\n",
       "      dtype='object')"
      ]
     },
     "execution_count": 132,
     "metadata": {},
     "output_type": "execute_result"
    }
   ],
   "source": [
    "df_test.columns"
   ]
  },
  {
   "cell_type": "code",
   "execution_count": 133,
   "metadata": {},
   "outputs": [
    {
     "data": {
      "text/html": [
       "<div>\n",
       "<style scoped>\n",
       "    .dataframe tbody tr th:only-of-type {\n",
       "        vertical-align: middle;\n",
       "    }\n",
       "\n",
       "    .dataframe tbody tr th {\n",
       "        vertical-align: top;\n",
       "    }\n",
       "\n",
       "    .dataframe thead th {\n",
       "        text-align: right;\n",
       "    }\n",
       "</style>\n",
       "<table border=\"1\" class=\"dataframe\">\n",
       "  <thead>\n",
       "    <tr style=\"text-align: right;\">\n",
       "      <th></th>\n",
       "      <th>id</th>\n",
       "      <th>region</th>\n",
       "      <th>latitude</th>\n",
       "      <th>longitude</th>\n",
       "      <th>accommodation_type</th>\n",
       "      <th>cost</th>\n",
       "      <th>minimum_nights</th>\n",
       "      <th>number_of_reviews</th>\n",
       "      <th>reviews_per_month</th>\n",
       "      <th>owner_id</th>\n",
       "      <th>owned_hotels</th>\n",
       "      <th>yearly_availability</th>\n",
       "      <th>total_cost</th>\n",
       "    </tr>\n",
       "  </thead>\n",
       "  <tbody>\n",
       "    <tr>\n",
       "      <th>0</th>\n",
       "      <td>13232</td>\n",
       "      <td>Manhattan</td>\n",
       "      <td>40.71854</td>\n",
       "      <td>-74.00439</td>\n",
       "      <td>Entire home/apt</td>\n",
       "      <td>170</td>\n",
       "      <td>5</td>\n",
       "      <td>7</td>\n",
       "      <td>0.56</td>\n",
       "      <td>929983</td>\n",
       "      <td>1</td>\n",
       "      <td>0</td>\n",
       "      <td>850</td>\n",
       "    </tr>\n",
       "    <tr>\n",
       "      <th>1</th>\n",
       "      <td>246</td>\n",
       "      <td>Brooklyn</td>\n",
       "      <td>40.64446</td>\n",
       "      <td>-73.95030</td>\n",
       "      <td>Entire home/apt</td>\n",
       "      <td>65</td>\n",
       "      <td>3</td>\n",
       "      <td>238</td>\n",
       "      <td>2.30</td>\n",
       "      <td>281764</td>\n",
       "      <td>1</td>\n",
       "      <td>0</td>\n",
       "      <td>195</td>\n",
       "    </tr>\n",
       "    <tr>\n",
       "      <th>2</th>\n",
       "      <td>19091</td>\n",
       "      <td>Queens</td>\n",
       "      <td>40.78573</td>\n",
       "      <td>-73.81062</td>\n",
       "      <td>Private room</td>\n",
       "      <td>85</td>\n",
       "      <td>1</td>\n",
       "      <td>0</td>\n",
       "      <td>0.00</td>\n",
       "      <td>19923341</td>\n",
       "      <td>1</td>\n",
       "      <td>1</td>\n",
       "      <td>85</td>\n",
       "    </tr>\n",
       "    <tr>\n",
       "      <th>3</th>\n",
       "      <td>34305</td>\n",
       "      <td>Manhattan</td>\n",
       "      <td>40.73863</td>\n",
       "      <td>-73.98002</td>\n",
       "      <td>Private room</td>\n",
       "      <td>210</td>\n",
       "      <td>30</td>\n",
       "      <td>0</td>\n",
       "      <td>0.00</td>\n",
       "      <td>200380610</td>\n",
       "      <td>65</td>\n",
       "      <td>1</td>\n",
       "      <td>6300</td>\n",
       "    </tr>\n",
       "    <tr>\n",
       "      <th>4</th>\n",
       "      <td>444</td>\n",
       "      <td>Manhattan</td>\n",
       "      <td>40.82426</td>\n",
       "      <td>-73.94630</td>\n",
       "      <td>Shared room</td>\n",
       "      <td>75</td>\n",
       "      <td>3</td>\n",
       "      <td>38</td>\n",
       "      <td>0.42</td>\n",
       "      <td>745069</td>\n",
       "      <td>3</td>\n",
       "      <td>1</td>\n",
       "      <td>225</td>\n",
       "    </tr>\n",
       "  </tbody>\n",
       "</table>\n",
       "</div>"
      ],
      "text/plain": [
       "      id     region  latitude  longitude accommodation_type  cost  \\\n",
       "0  13232  Manhattan  40.71854  -74.00439    Entire home/apt   170   \n",
       "1    246   Brooklyn  40.64446  -73.95030    Entire home/apt    65   \n",
       "2  19091     Queens  40.78573  -73.81062       Private room    85   \n",
       "3  34305  Manhattan  40.73863  -73.98002       Private room   210   \n",
       "4    444  Manhattan  40.82426  -73.94630        Shared room    75   \n",
       "\n",
       "   minimum_nights  number_of_reviews  reviews_per_month   owner_id  \\\n",
       "0               5                  7               0.56     929983   \n",
       "1               3                238               2.30     281764   \n",
       "2               1                  0               0.00   19923341   \n",
       "3              30                  0               0.00  200380610   \n",
       "4               3                 38               0.42     745069   \n",
       "\n",
       "   owned_hotels  yearly_availability  total_cost  \n",
       "0             1                    0         850  \n",
       "1             1                    0         195  \n",
       "2             1                    1          85  \n",
       "3            65                    1        6300  \n",
       "4             3                    1         225  "
      ]
     },
     "execution_count": 133,
     "metadata": {},
     "output_type": "execute_result"
    }
   ],
   "source": [
    "df_test = df_train.fillna(0)\n",
    "df_test.head()"
   ]
  },
  {
   "cell_type": "code",
   "execution_count": 134,
   "metadata": {},
   "outputs": [
    {
     "data": {
      "text/html": [
       "<div>\n",
       "<style scoped>\n",
       "    .dataframe tbody tr th:only-of-type {\n",
       "        vertical-align: middle;\n",
       "    }\n",
       "\n",
       "    .dataframe tbody tr th {\n",
       "        vertical-align: top;\n",
       "    }\n",
       "\n",
       "    .dataframe thead th {\n",
       "        text-align: right;\n",
       "    }\n",
       "</style>\n",
       "<table border=\"1\" class=\"dataframe\">\n",
       "  <thead>\n",
       "    <tr style=\"text-align: right;\">\n",
       "      <th></th>\n",
       "      <th>id</th>\n",
       "      <th>region</th>\n",
       "      <th>latitude</th>\n",
       "      <th>longitude</th>\n",
       "      <th>accommodation_type</th>\n",
       "      <th>cost</th>\n",
       "      <th>minimum_nights</th>\n",
       "      <th>number_of_reviews</th>\n",
       "      <th>reviews_per_month</th>\n",
       "      <th>owner_id</th>\n",
       "      <th>owned_hotels</th>\n",
       "      <th>yearly_availability</th>\n",
       "      <th>total_cost</th>\n",
       "    </tr>\n",
       "  </thead>\n",
       "  <tbody>\n",
       "    <tr>\n",
       "      <th>0</th>\n",
       "      <td>13232</td>\n",
       "      <td>Manhattan</td>\n",
       "      <td>40.71854</td>\n",
       "      <td>-74.00439</td>\n",
       "      <td>Entire home/apt</td>\n",
       "      <td>170</td>\n",
       "      <td>5</td>\n",
       "      <td>7</td>\n",
       "      <td>0.56</td>\n",
       "      <td>929983</td>\n",
       "      <td>1</td>\n",
       "      <td>0</td>\n",
       "      <td>850</td>\n",
       "    </tr>\n",
       "    <tr>\n",
       "      <th>1</th>\n",
       "      <td>246</td>\n",
       "      <td>Brooklyn</td>\n",
       "      <td>40.64446</td>\n",
       "      <td>-73.95030</td>\n",
       "      <td>Entire home/apt</td>\n",
       "      <td>65</td>\n",
       "      <td>3</td>\n",
       "      <td>238</td>\n",
       "      <td>2.30</td>\n",
       "      <td>281764</td>\n",
       "      <td>1</td>\n",
       "      <td>0</td>\n",
       "      <td>195</td>\n",
       "    </tr>\n",
       "    <tr>\n",
       "      <th>2</th>\n",
       "      <td>19091</td>\n",
       "      <td>Queens</td>\n",
       "      <td>40.78573</td>\n",
       "      <td>-73.81062</td>\n",
       "      <td>Private room</td>\n",
       "      <td>85</td>\n",
       "      <td>1</td>\n",
       "      <td>0</td>\n",
       "      <td>0.00</td>\n",
       "      <td>19923341</td>\n",
       "      <td>1</td>\n",
       "      <td>1</td>\n",
       "      <td>85</td>\n",
       "    </tr>\n",
       "    <tr>\n",
       "      <th>3</th>\n",
       "      <td>34305</td>\n",
       "      <td>Manhattan</td>\n",
       "      <td>40.73863</td>\n",
       "      <td>-73.98002</td>\n",
       "      <td>Private room</td>\n",
       "      <td>210</td>\n",
       "      <td>30</td>\n",
       "      <td>0</td>\n",
       "      <td>0.00</td>\n",
       "      <td>200380610</td>\n",
       "      <td>65</td>\n",
       "      <td>1</td>\n",
       "      <td>6300</td>\n",
       "    </tr>\n",
       "    <tr>\n",
       "      <th>4</th>\n",
       "      <td>444</td>\n",
       "      <td>Manhattan</td>\n",
       "      <td>40.82426</td>\n",
       "      <td>-73.94630</td>\n",
       "      <td>Shared room</td>\n",
       "      <td>75</td>\n",
       "      <td>3</td>\n",
       "      <td>38</td>\n",
       "      <td>0.42</td>\n",
       "      <td>745069</td>\n",
       "      <td>3</td>\n",
       "      <td>1</td>\n",
       "      <td>225</td>\n",
       "    </tr>\n",
       "  </tbody>\n",
       "</table>\n",
       "</div>"
      ],
      "text/plain": [
       "      id     region  latitude  longitude accommodation_type  cost  \\\n",
       "0  13232  Manhattan  40.71854  -74.00439    Entire home/apt   170   \n",
       "1    246   Brooklyn  40.64446  -73.95030    Entire home/apt    65   \n",
       "2  19091     Queens  40.78573  -73.81062       Private room    85   \n",
       "3  34305  Manhattan  40.73863  -73.98002       Private room   210   \n",
       "4    444  Manhattan  40.82426  -73.94630        Shared room    75   \n",
       "\n",
       "   minimum_nights  number_of_reviews  reviews_per_month   owner_id  \\\n",
       "0               5                  7               0.56     929983   \n",
       "1               3                238               2.30     281764   \n",
       "2               1                  0               0.00   19923341   \n",
       "3              30                  0               0.00  200380610   \n",
       "4               3                 38               0.42     745069   \n",
       "\n",
       "   owned_hotels  yearly_availability  total_cost  \n",
       "0             1                    0         850  \n",
       "1             1                    0         195  \n",
       "2             1                    1          85  \n",
       "3            65                    1        6300  \n",
       "4             3                    1         225  "
      ]
     },
     "execution_count": 134,
     "metadata": {},
     "output_type": "execute_result"
    }
   ],
   "source": [
    "df_test['total_cost'] = (df_test['cost'] * df_test['minimum_nights'])\n",
    "df_test.head()"
   ]
  },
  {
   "cell_type": "code",
   "execution_count": 135,
   "metadata": {
    "colab": {},
    "colab_type": "code",
    "id": "OaxN7BjwIKTL"
   },
   "outputs": [],
   "source": [
    "l = ['region', 'accommodation_type', 'number_of_reviews', 'reviews_per_month',\n",
    "       'owned_hotels', 'total_cost']"
   ]
  },
  {
   "cell_type": "code",
   "execution_count": 136,
   "metadata": {},
   "outputs": [],
   "source": [
    "x_test = df_test[l]"
   ]
  },
  {
   "cell_type": "code",
   "execution_count": 137,
   "metadata": {},
   "outputs": [],
   "source": [
    "x_data_test = pd.get_dummies(x_test)"
   ]
  },
  {
   "cell_type": "code",
   "execution_count": 138,
   "metadata": {},
   "outputs": [
    {
     "data": {
      "text/html": [
       "<div>\n",
       "<style scoped>\n",
       "    .dataframe tbody tr th:only-of-type {\n",
       "        vertical-align: middle;\n",
       "    }\n",
       "\n",
       "    .dataframe tbody tr th {\n",
       "        vertical-align: top;\n",
       "    }\n",
       "\n",
       "    .dataframe thead th {\n",
       "        text-align: right;\n",
       "    }\n",
       "</style>\n",
       "<table border=\"1\" class=\"dataframe\">\n",
       "  <thead>\n",
       "    <tr style=\"text-align: right;\">\n",
       "      <th></th>\n",
       "      <th>number_of_reviews</th>\n",
       "      <th>reviews_per_month</th>\n",
       "      <th>owned_hotels</th>\n",
       "      <th>total_cost</th>\n",
       "      <th>region_Bronx</th>\n",
       "      <th>region_Brooklyn</th>\n",
       "      <th>region_Manhattan</th>\n",
       "      <th>region_Queens</th>\n",
       "      <th>region_Staten Island</th>\n",
       "      <th>accommodation_type_Entire home/apt</th>\n",
       "      <th>accommodation_type_Private room</th>\n",
       "      <th>accommodation_type_Shared room</th>\n",
       "    </tr>\n",
       "  </thead>\n",
       "  <tbody>\n",
       "    <tr>\n",
       "      <th>0</th>\n",
       "      <td>7</td>\n",
       "      <td>0.56</td>\n",
       "      <td>1</td>\n",
       "      <td>850</td>\n",
       "      <td>0</td>\n",
       "      <td>0</td>\n",
       "      <td>1</td>\n",
       "      <td>0</td>\n",
       "      <td>0</td>\n",
       "      <td>1</td>\n",
       "      <td>0</td>\n",
       "      <td>0</td>\n",
       "    </tr>\n",
       "    <tr>\n",
       "      <th>1</th>\n",
       "      <td>238</td>\n",
       "      <td>2.30</td>\n",
       "      <td>1</td>\n",
       "      <td>195</td>\n",
       "      <td>0</td>\n",
       "      <td>1</td>\n",
       "      <td>0</td>\n",
       "      <td>0</td>\n",
       "      <td>0</td>\n",
       "      <td>1</td>\n",
       "      <td>0</td>\n",
       "      <td>0</td>\n",
       "    </tr>\n",
       "    <tr>\n",
       "      <th>2</th>\n",
       "      <td>0</td>\n",
       "      <td>0.00</td>\n",
       "      <td>1</td>\n",
       "      <td>85</td>\n",
       "      <td>0</td>\n",
       "      <td>0</td>\n",
       "      <td>0</td>\n",
       "      <td>1</td>\n",
       "      <td>0</td>\n",
       "      <td>0</td>\n",
       "      <td>1</td>\n",
       "      <td>0</td>\n",
       "    </tr>\n",
       "    <tr>\n",
       "      <th>3</th>\n",
       "      <td>0</td>\n",
       "      <td>0.00</td>\n",
       "      <td>65</td>\n",
       "      <td>6300</td>\n",
       "      <td>0</td>\n",
       "      <td>0</td>\n",
       "      <td>1</td>\n",
       "      <td>0</td>\n",
       "      <td>0</td>\n",
       "      <td>0</td>\n",
       "      <td>1</td>\n",
       "      <td>0</td>\n",
       "    </tr>\n",
       "    <tr>\n",
       "      <th>4</th>\n",
       "      <td>38</td>\n",
       "      <td>0.42</td>\n",
       "      <td>3</td>\n",
       "      <td>225</td>\n",
       "      <td>0</td>\n",
       "      <td>0</td>\n",
       "      <td>1</td>\n",
       "      <td>0</td>\n",
       "      <td>0</td>\n",
       "      <td>0</td>\n",
       "      <td>0</td>\n",
       "      <td>1</td>\n",
       "    </tr>\n",
       "  </tbody>\n",
       "</table>\n",
       "</div>"
      ],
      "text/plain": [
       "   number_of_reviews  reviews_per_month  owned_hotels  total_cost  \\\n",
       "0                  7               0.56             1         850   \n",
       "1                238               2.30             1         195   \n",
       "2                  0               0.00             1          85   \n",
       "3                  0               0.00            65        6300   \n",
       "4                 38               0.42             3         225   \n",
       "\n",
       "   region_Bronx  region_Brooklyn  region_Manhattan  region_Queens  \\\n",
       "0             0                0                 1              0   \n",
       "1             0                1                 0              0   \n",
       "2             0                0                 0              1   \n",
       "3             0                0                 1              0   \n",
       "4             0                0                 1              0   \n",
       "\n",
       "   region_Staten Island  accommodation_type_Entire home/apt  \\\n",
       "0                     0                                   1   \n",
       "1                     0                                   1   \n",
       "2                     0                                   0   \n",
       "3                     0                                   0   \n",
       "4                     0                                   0   \n",
       "\n",
       "   accommodation_type_Private room  accommodation_type_Shared room  \n",
       "0                                0                               0  \n",
       "1                                0                               0  \n",
       "2                                1                               0  \n",
       "3                                1                               0  \n",
       "4                                0                               1  "
      ]
     },
     "execution_count": 138,
     "metadata": {},
     "output_type": "execute_result"
    }
   ],
   "source": [
    "x_data_test.head()"
   ]
  },
  {
   "cell_type": "code",
   "execution_count": 139,
   "metadata": {},
   "outputs": [
    {
     "data": {
      "text/html": [
       "<div>\n",
       "<style scoped>\n",
       "    .dataframe tbody tr th:only-of-type {\n",
       "        vertical-align: middle;\n",
       "    }\n",
       "\n",
       "    .dataframe tbody tr th {\n",
       "        vertical-align: top;\n",
       "    }\n",
       "\n",
       "    .dataframe thead th {\n",
       "        text-align: right;\n",
       "    }\n",
       "</style>\n",
       "<table border=\"1\" class=\"dataframe\">\n",
       "  <thead>\n",
       "    <tr style=\"text-align: right;\">\n",
       "      <th></th>\n",
       "      <th>number_of_reviews</th>\n",
       "      <th>reviews_per_month</th>\n",
       "      <th>owned_hotels</th>\n",
       "      <th>total_cost</th>\n",
       "      <th>region_Bronx</th>\n",
       "      <th>region_Brooklyn</th>\n",
       "      <th>region_Manhattan</th>\n",
       "      <th>region_Queens</th>\n",
       "      <th>region_Staten Island</th>\n",
       "      <th>accommodation_type_Entire home/apt</th>\n",
       "      <th>accommodation_type_Private room</th>\n",
       "      <th>accommodation_type_Shared room</th>\n",
       "    </tr>\n",
       "  </thead>\n",
       "  <tbody>\n",
       "    <tr>\n",
       "      <th>0</th>\n",
       "      <td>0.017722</td>\n",
       "      <td>0.054002</td>\n",
       "      <td>0.000000</td>\n",
       "      <td>0.000709</td>\n",
       "      <td>0.0</td>\n",
       "      <td>0.0</td>\n",
       "      <td>1.0</td>\n",
       "      <td>0.0</td>\n",
       "      <td>0.0</td>\n",
       "      <td>1.0</td>\n",
       "      <td>0.0</td>\n",
       "      <td>0.0</td>\n",
       "    </tr>\n",
       "    <tr>\n",
       "      <th>1</th>\n",
       "      <td>0.602532</td>\n",
       "      <td>0.221794</td>\n",
       "      <td>0.000000</td>\n",
       "      <td>0.000150</td>\n",
       "      <td>0.0</td>\n",
       "      <td>1.0</td>\n",
       "      <td>0.0</td>\n",
       "      <td>0.0</td>\n",
       "      <td>0.0</td>\n",
       "      <td>1.0</td>\n",
       "      <td>0.0</td>\n",
       "      <td>0.0</td>\n",
       "    </tr>\n",
       "    <tr>\n",
       "      <th>2</th>\n",
       "      <td>0.000000</td>\n",
       "      <td>0.000000</td>\n",
       "      <td>0.000000</td>\n",
       "      <td>0.000056</td>\n",
       "      <td>0.0</td>\n",
       "      <td>0.0</td>\n",
       "      <td>0.0</td>\n",
       "      <td>1.0</td>\n",
       "      <td>0.0</td>\n",
       "      <td>0.0</td>\n",
       "      <td>1.0</td>\n",
       "      <td>0.0</td>\n",
       "    </tr>\n",
       "    <tr>\n",
       "      <th>3</th>\n",
       "      <td>0.000000</td>\n",
       "      <td>0.000000</td>\n",
       "      <td>0.196319</td>\n",
       "      <td>0.005368</td>\n",
       "      <td>0.0</td>\n",
       "      <td>0.0</td>\n",
       "      <td>1.0</td>\n",
       "      <td>0.0</td>\n",
       "      <td>0.0</td>\n",
       "      <td>0.0</td>\n",
       "      <td>1.0</td>\n",
       "      <td>0.0</td>\n",
       "    </tr>\n",
       "    <tr>\n",
       "      <th>4</th>\n",
       "      <td>0.096203</td>\n",
       "      <td>0.040501</td>\n",
       "      <td>0.006135</td>\n",
       "      <td>0.000175</td>\n",
       "      <td>0.0</td>\n",
       "      <td>0.0</td>\n",
       "      <td>1.0</td>\n",
       "      <td>0.0</td>\n",
       "      <td>0.0</td>\n",
       "      <td>0.0</td>\n",
       "      <td>0.0</td>\n",
       "      <td>1.0</td>\n",
       "    </tr>\n",
       "  </tbody>\n",
       "</table>\n",
       "</div>"
      ],
      "text/plain": [
       "   number_of_reviews  reviews_per_month  owned_hotels  total_cost  \\\n",
       "0           0.017722           0.054002      0.000000    0.000709   \n",
       "1           0.602532           0.221794      0.000000    0.000150   \n",
       "2           0.000000           0.000000      0.000000    0.000056   \n",
       "3           0.000000           0.000000      0.196319    0.005368   \n",
       "4           0.096203           0.040501      0.006135    0.000175   \n",
       "\n",
       "   region_Bronx  region_Brooklyn  region_Manhattan  region_Queens  \\\n",
       "0           0.0              0.0               1.0            0.0   \n",
       "1           0.0              1.0               0.0            0.0   \n",
       "2           0.0              0.0               0.0            1.0   \n",
       "3           0.0              0.0               1.0            0.0   \n",
       "4           0.0              0.0               1.0            0.0   \n",
       "\n",
       "   region_Staten Island  accommodation_type_Entire home/apt  \\\n",
       "0                   0.0                                 1.0   \n",
       "1                   0.0                                 1.0   \n",
       "2                   0.0                                 0.0   \n",
       "3                   0.0                                 0.0   \n",
       "4                   0.0                                 0.0   \n",
       "\n",
       "   accommodation_type_Private room  accommodation_type_Shared room  \n",
       "0                              0.0                             0.0  \n",
       "1                              0.0                             0.0  \n",
       "2                              1.0                             0.0  \n",
       "3                              1.0                             0.0  \n",
       "4                              0.0                             1.0  "
      ]
     },
     "execution_count": 139,
     "metadata": {},
     "output_type": "execute_result"
    }
   ],
   "source": [
    "from sklearn.preprocessing import MinMaxScaler\n",
    "cols = x_data_test.columns\n",
    "min_max_scaler = MinMaxScaler()\n",
    "np_scaled_test = min_max_scaler.fit_transform(x_data_test)\n",
    "\n",
    "X_test = pd.DataFrame(np_scaled_test, columns = cols)\n",
    "X_test.head()"
   ]
  },
  {
   "cell_type": "markdown",
   "metadata": {},
   "source": [
    "### I have selected XGBoost as my final model because it has highest the accuracy of 94%. "
   ]
  },
  {
   "cell_type": "code",
   "execution_count": 148,
   "metadata": {},
   "outputs": [
    {
     "data": {
      "text/plain": [
       "array([0, 0, 1, ..., 0, 1, 1])"
      ]
     },
     "execution_count": 148,
     "metadata": {},
     "output_type": "execute_result"
    }
   ],
   "source": [
    "yearly_availability = xgb.predict(X_test)\n",
    "yearly_availability"
   ]
  },
  {
   "cell_type": "code",
   "execution_count": 149,
   "metadata": {},
   "outputs": [],
   "source": [
    "final_dataset = pd.DataFrame()"
   ]
  },
  {
   "cell_type": "code",
   "execution_count": 150,
   "metadata": {},
   "outputs": [],
   "source": [
    "final_dataset['Id'] = df_test['id']\n",
    "final_dataset['yearly_availability']= yearly_availability"
   ]
  },
  {
   "cell_type": "code",
   "execution_count": 151,
   "metadata": {},
   "outputs": [
    {
     "data": {
      "text/html": [
       "<div>\n",
       "<style scoped>\n",
       "    .dataframe tbody tr th:only-of-type {\n",
       "        vertical-align: middle;\n",
       "    }\n",
       "\n",
       "    .dataframe tbody tr th {\n",
       "        vertical-align: top;\n",
       "    }\n",
       "\n",
       "    .dataframe thead th {\n",
       "        text-align: right;\n",
       "    }\n",
       "</style>\n",
       "<table border=\"1\" class=\"dataframe\">\n",
       "  <thead>\n",
       "    <tr style=\"text-align: right;\">\n",
       "      <th></th>\n",
       "      <th>Id</th>\n",
       "      <th>yearly_availability</th>\n",
       "    </tr>\n",
       "  </thead>\n",
       "  <tbody>\n",
       "    <tr>\n",
       "      <th>0</th>\n",
       "      <td>13232</td>\n",
       "      <td>0</td>\n",
       "    </tr>\n",
       "    <tr>\n",
       "      <th>1</th>\n",
       "      <td>246</td>\n",
       "      <td>0</td>\n",
       "    </tr>\n",
       "    <tr>\n",
       "      <th>2</th>\n",
       "      <td>19091</td>\n",
       "      <td>1</td>\n",
       "    </tr>\n",
       "    <tr>\n",
       "      <th>3</th>\n",
       "      <td>34305</td>\n",
       "      <td>1</td>\n",
       "    </tr>\n",
       "    <tr>\n",
       "      <th>4</th>\n",
       "      <td>444</td>\n",
       "      <td>1</td>\n",
       "    </tr>\n",
       "    <tr>\n",
       "      <th>...</th>\n",
       "      <td>...</td>\n",
       "      <td>...</td>\n",
       "    </tr>\n",
       "    <tr>\n",
       "      <th>2865</th>\n",
       "      <td>47852</td>\n",
       "      <td>1</td>\n",
       "    </tr>\n",
       "    <tr>\n",
       "      <th>2866</th>\n",
       "      <td>21978</td>\n",
       "      <td>1</td>\n",
       "    </tr>\n",
       "    <tr>\n",
       "      <th>2867</th>\n",
       "      <td>23485</td>\n",
       "      <td>0</td>\n",
       "    </tr>\n",
       "    <tr>\n",
       "      <th>2868</th>\n",
       "      <td>16757</td>\n",
       "      <td>1</td>\n",
       "    </tr>\n",
       "    <tr>\n",
       "      <th>2869</th>\n",
       "      <td>2355</td>\n",
       "      <td>1</td>\n",
       "    </tr>\n",
       "  </tbody>\n",
       "</table>\n",
       "<p>2870 rows × 2 columns</p>\n",
       "</div>"
      ],
      "text/plain": [
       "         Id  yearly_availability\n",
       "0     13232                    0\n",
       "1       246                    0\n",
       "2     19091                    1\n",
       "3     34305                    1\n",
       "4       444                    1\n",
       "...     ...                  ...\n",
       "2865  47852                    1\n",
       "2866  21978                    1\n",
       "2867  23485                    0\n",
       "2868  16757                    1\n",
       "2869   2355                    1\n",
       "\n",
       "[2870 rows x 2 columns]"
      ]
     },
     "execution_count": 151,
     "metadata": {},
     "output_type": "execute_result"
    }
   ],
   "source": [
    "final_dataset"
   ]
  },
  {
   "cell_type": "code",
   "execution_count": 152,
   "metadata": {},
   "outputs": [],
   "source": [
    "submission_df = final_dataset"
   ]
  },
  {
   "cell_type": "code",
   "execution_count": 153,
   "metadata": {
    "colab": {},
    "colab_type": "code",
    "id": "nBRVPrYbIKTQ"
   },
   "outputs": [],
   "source": [
    "#Submission\n",
    "submission_df.to_csv('submissions.csv',index=False)"
   ]
  },
  {
   "cell_type": "markdown",
   "metadata": {
    "colab_type": "text",
    "id": "H_pB8zTcIKTW"
   },
   "source": [
    "---"
   ]
  }
 ],
 "metadata": {
  "colab": {
   "collapsed_sections": [],
   "name": "Questions.ipynb",
   "provenance": [],
   "version": "0.3.2"
  },
  "kernelspec": {
   "display_name": "Python 3",
   "language": "python",
   "name": "python3"
  },
  "language_info": {
   "codemirror_mode": {
    "name": "ipython",
    "version": 3
   },
   "file_extension": ".py",
   "mimetype": "text/x-python",
   "name": "python",
   "nbconvert_exporter": "python",
   "pygments_lexer": "ipython3",
   "version": "3.7.8"
  },
  "toc": {
   "base_numbering": 1,
   "nav_menu": {},
   "number_sections": true,
   "sideBar": true,
   "skip_h1_title": false,
   "title_cell": "Table of Contents",
   "title_sidebar": "Contents",
   "toc_cell": false,
   "toc_position": {},
   "toc_section_display": true,
   "toc_window_display": false
  }
 },
 "nbformat": 4,
 "nbformat_minor": 4
}
